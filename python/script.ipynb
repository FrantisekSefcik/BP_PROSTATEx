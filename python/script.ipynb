{
 "cells": [
  {
   "cell_type": "code",
   "execution_count": 4,
   "metadata": {},
   "outputs": [],
   "source": [
    "import subprocess\n",
    "import os\n",
    "import pandas as pd\n",
    "import numpy as np\n",
    "import pylab as plt\n",
    "import re"
   ]
  },
  {
   "cell_type": "code",
   "execution_count": 5,
   "metadata": {},
   "outputs": [],
   "source": [
    "df_images = pd.read_csv('ProstateX-TrainingLesionInformationv2/ProstateX-TrainingLesionInformationv2/ProstateX-Images-Train.csv')\n",
    "df_findings = pd.read_csv('ProstateX-TrainingLesionInformationv2/ProstateX-TrainingLesionInformationv2/ProstateX-Findings-Train.csv')"
   ]
  },
  {
   "cell_type": "code",
   "execution_count": 65,
   "metadata": {},
   "outputs": [
    {
     "data": {
      "text/plain": [
       "ep2d_diff_tra_DYNDIST                            795\n",
       "t2_tse_tra                                       412\n",
       "t2_tse_sag                                       358\n",
       "t2_tse_cor                                       339\n",
       "tfl_3d PD ref_tra_1.5x1.5_t3                     326\n",
       "tfl_3d dynamisch fast                            315\n",
       "ep2d_diff_tra_DYNDISTCALC_BVAL                   265\n",
       "ep2d_diff_tra_DYNDIST_ADC                        265\n",
       "ep2d_diff_tra_DYNDIST_MIX                        192\n",
       "t2_loc sag                                       151\n",
       "t2_localizer                                     144\n",
       "ep2d_diff_tra_DYNDIST_MIX_ADC                     64\n",
       "ep2d_diff_tra_DYNDIST_MIXCALC_BVAL                64\n",
       "diffusie-3Scan-4bval_fs                           27\n",
       "diffusie-3Scan-4bval_fsCALC_BVAL                   9\n",
       "diffusie-3Scan-4bval_fs_ADC                        9\n",
       "tfl_3d PD reference                                9\n",
       "ep2d_diff_tra2x2_Noise0_FS_DYNDIST                 6\n",
       "t2_localizer_prostate                              4\n",
       "ep2d_diff_tra2x2_Noise0_NoFS_DYNDIST               3\n",
       "ep2d_diff_tra2x2_Noise0_FS_DYNDISTCALC_BVAL        2\n",
       "ep2d_diff_tra2x2_Noise0_FS_DYNDIST_ADC             2\n",
       "Perfusie_t1_twist_1.3x1.3x3_temp_2s_TT=103.0s      1\n",
       "Perfusie_t1_twist_1.3x1.3x3_temp_2s_TT=30.3s       1\n",
       "Perfusie_t1_twist_1.3x1.3x3_temp_2s_TT=118.0s      1\n",
       "Perfusie_t1_twist_1.3x1.3x3_temp_2s_TT=36.5s       1\n",
       "Perfusie_t1_twist_1.3x1.3x3_temp_2s_TT=93.0s       1\n",
       "Perfusie_t1_twist_1.3x1.3x3_temp_2s_TT=105.5s      1\n",
       "t2_tse_tra_exacte_copy_diffusie                    1\n",
       "Perfusie_t1_twist_1.3x1.3x3_temp_2s_TT=41.6s       1\n",
       "                                                ... \n",
       "Perfusie_t1_twist_1.3x1.3x3_temp_2s_TT=25.2s       1\n",
       "Perfusie_t1_twist_1.3x1.3x3_temp_2s_TT=32.8s       1\n",
       "Perfusie_t1_twist_1.3x1.3x3_temp_2s_TT=66.6s       1\n",
       "Perfusie_t1_twist_1.3x1.3x3_temp_2s_TT=111.8s      1\n",
       "Perfusie_t1_twist_1.3x1.3x3_temp_2s_TT=37.8s       1\n",
       "Perfusie_t1_twist_1.3x1.3x3_temp_2s_TT=116.8s      1\n",
       "Perfusie_t1_twist_1.3x1.3x3_temp_2s_TT=15.2s       1\n",
       "Perfusie_t1_twist_1.3x1.3x3_temp_2s_TT=46.6s       1\n",
       "Perfusie_t1_twist_1.3x1.3x3_temp_2s_TT=89.2s       1\n",
       "Perfusie_t1_twist_1.3x1.3x3_temp_2s_TT=12.7s       1\n",
       "Perfusie_t1_twist_1.3x1.3x3_temp_2s_TT=94.2s       1\n",
       "Perfusie_t1_twist_1.3x1.3x3_temp_2s_TT=40.3s       1\n",
       "Perfusie_t1_twist_1.3x1.3x3_temp_2s_TT=67.9s       1\n",
       "Perfusie_t1_twist_1.3x1.3x3_temp_2s_TT=80.4s       1\n",
       "ADC_S3_1                                           1\n",
       "Perfusie_t1_twist_1.3x1.3x3_temp_2s_TT=123.1s      1\n",
       "Perfusie_t1_twist_1.3x1.3x3_temp_2s_TT=82.9s       1\n",
       "Perfusie_t1_twist_1.3x1.3x3_temp_2s_TT=26.5s       1\n",
       "Perfusie_t1_twist_1.3x1.3x3_temp_2s_TT=109.3s      1\n",
       "Perfusie_t1_twist_1.3x1.3x3_temp_2s_TT=72.9s       1\n",
       "Perfusie_t1_twist_1.3x1.3x3_temp_2s_TT=21.5s       1\n",
       "Perfusie_t1_twist_1.3x1.3x3_temp_2s_TT=34.0s       1\n",
       "Perfusie_t1_twist_1.3x1.3x3_temp_2s_TT=84.2s       1\n",
       "Perfusie_t1_twist_1.3x1.3x3_temp_2s_TT=114.3s      1\n",
       "Perfusie_t1_twist_1.3x1.3x3_temp_2s_TT=52.8s       1\n",
       "Perfusie_t1_twist_1.3x1.3x3_temp_2s_TT=110.5s      1\n",
       "Perfusie_t1_twist_1.3x1.3x3_temp_2s_TT=98.0s       1\n",
       "Perfusie_t1_twist_1.3x1.3x3_temp_2s_TT=22.7s       1\n",
       "Perfusie_t1_twist_1.3x1.3x3_temp_2s_TT=54.1s       1\n",
       "Perfusie_t1_twist_1.3x1.3x3_temp_2s_TT=85.4s       1\n",
       "Name: DCMSerDescr, Length: 130, dtype: int64"
      ]
     },
     "execution_count": 65,
     "metadata": {},
     "output_type": "execute_result"
    }
   ],
   "source": [
    "df_images['DCMSerDescr'].value_counts()\n"
   ]
  },
  {
   "cell_type": "code",
   "execution_count": 7,
   "metadata": {},
   "outputs": [],
   "source": [
    "exe = \"../bin/Debug/registration.exe\"\n",
    "images_source = \"C:\\\\FRANTISEK\\\\SKOLA FIIT\\\\bakalarka\\\\DATA\\\\PROSTATEx\\\\\"\n",
    "filename1 = \"C:\\\\FRANTISEK\\\\SKOLA FIIT\\\\bakalarka\\\\DATA\\\\PROSTATEx\\\\ProstateX-0000\\\\07-07-2011-MR prostaat kanker detectie WDSmc MCAPRODETW-05711\\\\4-t2tsetra-00702\"\n",
    "filename2 = \"C:\\\\FRANTISEK\\\\SKOLA FIIT\\\\bakalarka\\\\DATA\\\\PROSTATEx\\\\ProstateX-0000\\\\07-07-2011-MR prostaat kanker detectie WDSmc MCAPRODETW-05711\\\\skuska2.dcm\"\n",
    "i = \"25.7457\"\n",
    "j = \"31.8707\"\n",
    "k = \"-38.511\"\n",
    "deg = \"20\"\n",
    "\n",
    "args = [exe,filename1,filename2,i,j,k,deg]\n",
    "\n",
    "\n",
    "        "
   ]
  },
  {
   "cell_type": "code",
   "execution_count": 8,
   "metadata": {},
   "outputs": [
    {
     "data": {
      "text/plain": [
       "['../bin/Debug/registration.exe',\n",
       " 'C:\\\\FRANTISEK\\\\SKOLA FIIT\\\\bakalarka\\\\DATA\\\\PROSTATEx\\\\ProstateX-0000\\\\07-07-2011-MR prostaat kanker detectie WDSmc MCAPRODETW-05711\\\\4-t2tsetra-00702',\n",
       " 'C:\\\\FRANTISEK\\\\SKOLA FIIT\\\\bakalarka\\\\DATA\\\\PROSTATEx\\\\ProstateX-0000\\\\07-07-2011-MR prostaat kanker detectie WDSmc MCAPRODETW-05711\\\\skuska2.dcm',\n",
       " '25.7457',\n",
       " '31.8707',\n",
       " '-38.511',\n",
       " '20']"
      ]
     },
     "execution_count": 8,
     "metadata": {},
     "output_type": "execute_result"
    }
   ],
   "source": [
    "args\n"
   ]
  },
  {
   "cell_type": "code",
   "execution_count": 9,
   "metadata": {},
   "outputs": [],
   "source": [
    "p = subprocess.Popen(args, stdin=subprocess.PIPE, stdout=subprocess.PIPE, stderr=subprocess.PIPE)"
   ]
  },
  {
   "cell_type": "code",
   "execution_count": 13,
   "metadata": {},
   "outputs": [
    {
     "data": {
      "text/plain": [
       "b'\\r\\nThe directory: \\r\\n\\r\\nC:\\\\FRANTISEK\\\\SKOLA FIIT\\\\bakalarka\\\\DATA\\\\PROSTATEx\\\\ProstateX-0000\\\\07-07-2011-MR prostaat kanker detectie WDSmc MCAPRODETW-05711\\\\4-t2tsetra-00702\\r\\n\\r\\nContains the following DICOM Series: \\r\\n\\r\\n1.3.6.1.4.1.14519.5.2.1.7311.5101.160028252338004527274326500702.4tse2d125338438420110707\\r\\n\\r\\n\\r\\nNow reading series: \\r\\n\\r\\n1.3.6.1.4.1.14519.5.2.1.7311.5101.160028252338004527274326500702.4tse2d125338438420110707\\r\\n\\r\\n\\r\\nxindex = 167\\r\\nYindex = 224\\r\\nzIndex = 8\\r\\n'"
      ]
     },
     "execution_count": 13,
     "metadata": {},
     "output_type": "execute_result"
    }
   ],
   "source": [
    "(out, err) = p.communicate()\n",
    "\n",
    "out"
   ]
  },
  {
   "cell_type": "code",
   "execution_count": 27,
   "metadata": {},
   "outputs": [],
   "source": [
    "dir1 = \"C:\\\\FRANTISEK\\\\SKOLA FIIT\\\\bakalarka\\\\DATA\\\\PROSTATEx\\\\ProstateX-0000\\\\\"\n",
    "dirs = os.listdir(dir1)"
   ]
  },
  {
   "cell_type": "code",
   "execution_count": 28,
   "metadata": {},
   "outputs": [],
   "source": [
    "a = os.path.join(dir1, dirs[0])"
   ]
  },
  {
   "cell_type": "code",
   "execution_count": 53,
   "metadata": {},
   "outputs": [
    {
     "data": {
      "text/plain": [
       "'4-t2tsetra-00702'"
      ]
     },
     "execution_count": 53,
     "metadata": {},
     "output_type": "execute_result"
    }
   ],
   "source": [
    "\n",
    "dirs2 = os.listdir(a)\n",
    "regex = r\"^\" + str(4)\n",
    "next(filter(lambda x: x.startswith( str(4) ),dirs2))\n"
   ]
  },
  {
   "cell_type": "code",
   "execution_count": 35,
   "metadata": {},
   "outputs": [
    {
     "data": {
      "text/plain": [
       "['3-t2tsesag-87368',\n",
       " '4-t2tsetra-00702',\n",
       " '5-t2tsecor-03471',\n",
       " '6-ep2ddifftraDYNDIST-69284',\n",
       " '7-ep2ddifftraDYNDISTADC-48780',\n",
       " '8-ep2ddifftraDYNDISTCALCBVAL-83202',\n",
       " 'man.dcm',\n",
       " 'man2.dcm',\n",
       " 'moj.dcm',\n",
       " 'neve',\n",
       " 'skuska.dcm',\n",
       " 'skuska2.dcm',\n",
       " 'tvoj.dcm']"
      ]
     },
     "execution_count": 35,
     "metadata": {},
     "output_type": "execute_result"
    }
   ],
   "source": [
    "dirs2"
   ]
  },
  {
   "cell_type": "code",
   "execution_count": 112,
   "metadata": {},
   "outputs": [],
   "source": [
    "T2W = df_images[df_images['DCMSerDescr'] == 't2_tse_cor'].head(2)\n"
   ]
  },
  {
   "cell_type": "code",
   "execution_count": 113,
   "metadata": {},
   "outputs": [
    {
     "data": {
      "text/html": [
       "<div>\n",
       "<style scoped>\n",
       "    .dataframe tbody tr th:only-of-type {\n",
       "        vertical-align: middle;\n",
       "    }\n",
       "\n",
       "    .dataframe tbody tr th {\n",
       "        vertical-align: top;\n",
       "    }\n",
       "\n",
       "    .dataframe thead th {\n",
       "        text-align: right;\n",
       "    }\n",
       "</style>\n",
       "<table border=\"1\" class=\"dataframe\">\n",
       "  <thead>\n",
       "    <tr style=\"text-align: right;\">\n",
       "      <th></th>\n",
       "      <th>ProxID</th>\n",
       "      <th>Name</th>\n",
       "      <th>fid</th>\n",
       "      <th>pos</th>\n",
       "      <th>WorldMatrix</th>\n",
       "      <th>ijk</th>\n",
       "      <th>TopLevel</th>\n",
       "      <th>SpacingBetweenSlices</th>\n",
       "      <th>VoxelSpacing</th>\n",
       "      <th>Dim</th>\n",
       "      <th>DCMSerDescr</th>\n",
       "      <th>DCMSerNum</th>\n",
       "    </tr>\n",
       "  </thead>\n",
       "  <tbody>\n",
       "    <tr>\n",
       "      <th>5</th>\n",
       "      <td>ProstateX-0000</td>\n",
       "      <td>t2_tse_cor0</td>\n",
       "      <td>1</td>\n",
       "      <td>25.7457 31.8707 -38.511</td>\n",
       "      <td>0.6,0,0,-57.5639,0,-0.190383,2.84497,29.839,0,...</td>\n",
       "      <td>139 166 12</td>\n",
       "      <td>1.0</td>\n",
       "      <td>3.0</td>\n",
       "      <td>0.6,0.6,3</td>\n",
       "      <td>320x320x15x1</td>\n",
       "      <td>t2_tse_cor</td>\n",
       "      <td>5</td>\n",
       "    </tr>\n",
       "    <tr>\n",
       "      <th>17</th>\n",
       "      <td>ProstateX-0001</td>\n",
       "      <td>t2_tse_cor0</td>\n",
       "      <td>1</td>\n",
       "      <td>-40.5367071921656 29.320722668457 -16.70766907...</td>\n",
       "      <td>0.6,0,0,-119.251,0,-0.0658406,2.98188,22.0761,...</td>\n",
       "      <td>131 177 6</td>\n",
       "      <td>1.0</td>\n",
       "      <td>3.0</td>\n",
       "      <td>0.6,0.6,3</td>\n",
       "      <td>320x320x15x1</td>\n",
       "      <td>t2_tse_cor</td>\n",
       "      <td>5</td>\n",
       "    </tr>\n",
       "  </tbody>\n",
       "</table>\n",
       "</div>"
      ],
      "text/plain": [
       "            ProxID         Name  fid  \\\n",
       "5   ProstateX-0000  t2_tse_cor0    1   \n",
       "17  ProstateX-0001  t2_tse_cor0    1   \n",
       "\n",
       "                                                  pos  \\\n",
       "5                             25.7457 31.8707 -38.511   \n",
       "17  -40.5367071921656 29.320722668457 -16.70766907...   \n",
       "\n",
       "                                          WorldMatrix         ijk  TopLevel  \\\n",
       "5   0.6,0,0,-57.5639,0,-0.190383,2.84497,29.839,0,...  139 166 12       1.0   \n",
       "17  0.6,0,0,-119.251,0,-0.0658406,2.98188,22.0761,...   131 177 6       1.0   \n",
       "\n",
       "    SpacingBetweenSlices VoxelSpacing           Dim DCMSerDescr  DCMSerNum  \n",
       "5                    3.0    0.6,0.6,3  320x320x15x1  t2_tse_cor          5  \n",
       "17                   3.0    0.6,0.6,3  320x320x15x1  t2_tse_cor          5  "
      ]
     },
     "execution_count": 113,
     "metadata": {},
     "output_type": "execute_result"
    }
   ],
   "source": [
    "T2W"
   ]
  },
  {
   "cell_type": "code",
   "execution_count": 114,
   "metadata": {},
   "outputs": [],
   "source": [
    "root_path = \"C:\\\\FRANTISEK\\\\SKOLA FIIT\\\\bakalarka\\\\DATA\\\\PROSTATEx\"\n",
    "for index , cas in T2W.iterrows():\n",
    "    \n",
    "    DICOMpath = os.path.join(root_path,str(cas['ProxID']))\n",
    "    dirs1 = os.listdir(DICOMpath)\n",
    "    \n",
    "    DICOMpath = os.path.join(DICOMpath,dirs1[0])\n",
    "    dirs2 = os.listdir(DICOMpath)\n",
    "    r1 = next(filter(lambda x: x.startswith( str(cas['DCMSerNum']) ),dirs2))   \n",
    "    DICOMpath = os.path.join(DICOMpath,r1)\n",
    "    \n",
    "    T2W.loc[index,'path'] = DICOMpath\n",
    "    "
   ]
  },
  {
   "cell_type": "code",
   "execution_count": 118,
   "metadata": {},
   "outputs": [
    {
     "name": "stdout",
     "output_type": "stream",
     "text": [
      "b'\\r\\nThe directory: \\r\\n\\r\\nC:\\\\FRANTISEK\\\\SKOLA FIIT\\\\bakalarka\\\\DATA\\\\PROSTATEx\\\\ProstateX-0000\\\\07-07-2011-MR prostaat kanker detectie WDSmc MCAPRODETW-05711\\\\5-t2tsecor-03471\\r\\n\\r\\nContains the following DICOM Series: \\r\\n\\r\\n1.3.6.1.4.1.14519.5.2.1.7311.5101.604184452348902957788528403471.5tse2d125332032020110707\\r\\n\\r\\n\\r\\nNow reading series: \\r\\n\\r\\n1.3.6.1.4.1.14519.5.2.1.7311.5101.604184452348902957788528403471.5tse2d125332032020110707\\r\\n\\r\\n\\r\\nxindex = 138\\r\\nYindex = 165\\r\\nzIndex = 11\\r\\nregion x = 83\\r\\nregion z = 83\\r\\nPixelType: scalar\\r\\nComponent Type: unsigned_short\\r\\n\\r\\nitk::ExceptionObject (0093E6FC)\\r\\nLocation: \"void __thiscall itk::JPEGImageIO::Write(const void *)\" \\r\\nFile: C:\\\\itk\\\\src\\\\Modules\\\\IO\\\\JPEG\\\\src\\\\itkJPEGImageIO.cxx\\r\\nLine: 454\\r\\nDescription: itk::ERROR: JPEGImageIO(060DAE50): JPEG supports unsigned char/int only\\r\\n\\r\\n\\r\\n'\n",
      "b'\\r\\nThe directory: \\r\\n\\r\\nC:\\\\FRANTISEK\\\\SKOLA FIIT\\\\bakalarka\\\\DATA\\\\PROSTATEx\\\\ProstateX-0001\\\\07-08-2011-MR prostaat kanker detectie WDSmc MCAPRODETW-95738\\\\5-t2tsecor-26539\\r\\n\\r\\nContains the following DICOM Series: \\r\\n\\r\\n1.3.6.1.4.1.14519.5.2.1.7311.5101.162459516396320295355775826539.5tse2d125332032020110708\\r\\n\\r\\n\\r\\nNow reading series: \\r\\n\\r\\n1.3.6.1.4.1.14519.5.2.1.7311.5101.162459516396320295355775826539.5tse2d125332032020110708\\r\\n\\r\\n\\r\\nxindex = 131\\r\\nYindex = 176\\r\\nzIndex = 6\\r\\nregion x = 83\\r\\nregion z = 83\\r\\nPixelType: scalar\\r\\nComponent Type: unsigned_short\\r\\n\\r\\nitk::ExceptionObject (007FEA8C)\\r\\nLocation: \"void __thiscall itk::JPEGImageIO::Write(const void *)\" \\r\\nFile: C:\\\\itk\\\\src\\\\Modules\\\\IO\\\\JPEG\\\\src\\\\itkJPEGImageIO.cxx\\r\\nLine: 454\\r\\nDescription: itk::ERROR: JPEGImageIO(063A83A8): JPEG supports unsigned char/int only\\r\\n\\r\\n\\r\\n'\n"
     ]
    }
   ],
   "source": [
    "exe = \"../bin/Debug/registration.exe\"\n",
    "target_folder = \"C:\\\\FRANTISEK\\\\SKOLA FIIT\\\\bakalarka\\\\BP_PROSTATEx\\\\data\\\\\"\n",
    "for index,row in T2W.iterrows():\n",
    "    \n",
    "    coordinates = row['pos'].split()\n",
    "    scales = row['VoxelSpacing'].split(\",\")\n",
    "    file = target_folder + str(index) + '.jpg'\n",
    "    deg = \"50\"\n",
    "    \n",
    "    args = [exe,row['path'],file,coordinates[0],coordinates[1],coordinates[2],deg,scales[0],scales[1]]\n",
    "    \n",
    "    p = subprocess.Popen(args, stdin=subprocess.PIPE, stdout=subprocess.PIPE, stderr=subprocess.PIPE)\n",
    "    (out, err) = p.communicate()\n",
    "    print(out)"
   ]
  },
  {
   "cell_type": "code",
   "execution_count": 110,
   "metadata": {},
   "outputs": [
    {
     "data": {
      "text/plain": [
       "b'\\r\\nThe directory: \\r\\n\\r\\nC:\\\\FRANTISEK\\\\SKOLA FIIT\\\\bakalarka\\\\DATA\\\\PROSTATEx\\\\ProstateX-0001\\\\07-08-2011-MR prostaat kanker detectie WDSmc MCAPRODETW-95738\\\\4-t2tsesag-22089\\r\\n\\r\\nContains the following DICOM Series: \\r\\n\\r\\n1.3.6.1.4.1.14519.5.2.1.7311.5101.331996083492709848836393222089.4tse2d125332032020110708\\r\\n\\r\\n\\r\\nNow reading series: \\r\\n\\r\\n1.3.6.1.4.1.14519.5.2.1.7311.5101.331996083492709848836393222089.4tse2d125332032020110708\\r\\n\\r\\n\\r\\nxindex = 154\\r\\nYindex = 173\\r\\nzIndex = 14\\r\\nregion x = 53\\r\\nregion z = 53\\r\\nPixelType: scalar\\r\\nComponent Type: unsigned_short\\r\\n\\r\\nitk::ExceptionObject (0158E7E4)\\r\\nLocation: \"void __thiscall itk::ExtractImageFilter<class itk::Image<unsigned short,3>,class itk::Image<unsigned short,2> >::GenerateOutputInformation(void)\" \\r\\nFile: c:\\\\itk\\\\src\\\\modules\\\\core\\\\common\\\\include\\\\itkExtractImageFilter.hxx\\r\\nLine: 228\\r\\nDescription: itk::ERROR: ExtractImageFilter(05C34648): Invalid submatrix extracted for collapsed direction.\\r\\n\\r\\n\\r\\n'"
      ]
     },
     "execution_count": 110,
     "metadata": {},
     "output_type": "execute_result"
    }
   ],
   "source": [
    "out"
   ]
  }
 ],
 "metadata": {
  "kernelspec": {
   "display_name": "Python 3",
   "language": "python",
   "name": "python3"
  },
  "language_info": {
   "codemirror_mode": {
    "name": "ipython",
    "version": 3
   },
   "file_extension": ".py",
   "mimetype": "text/x-python",
   "name": "python",
   "nbconvert_exporter": "python",
   "pygments_lexer": "ipython3",
   "version": "3.6.5"
  }
 },
 "nbformat": 4,
 "nbformat_minor": 2
}
