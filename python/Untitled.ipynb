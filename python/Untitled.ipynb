{
 "cells": [
  {
   "cell_type": "code",
   "execution_count": 9,
   "metadata": {},
   "outputs": [],
   "source": [
    "import subprocess\n",
    "import os"
   ]
  },
  {
   "cell_type": "code",
   "execution_count": 57,
   "metadata": {},
   "outputs": [],
   "source": [
    "exe = \"../bin/Debug/registration.exe\"\n",
    "filename1 = \"C:\\\\FRANTISEK\\\\SKOLA FIIT\\\\bakalarka\\\\DATA\\\\PROSTATEx\\\\ProstateX-0000\\\\07-07-2011-MR prostaat kanker detectie WDSmc MCAPRODETW-05711\\\\4-t2tsetra-00702\"\n",
    "filename2 = \"C:\\\\FRANTISEK\\\\SKOLA FIIT\\\\bakalarka\\\\DATA\\\\PROSTATEx\\\\ProstateX-0000\\\\07-07-2011-MR prostaat kanker detectie WDSmc MCAPRODETW-05711\\\\skuska.dcm\"\n",
    "i = \"25\"\n",
    "j = \"31\"\n",
    "k = \"9\"\n",
    "deg = \"45\"\n",
    "\n",
    "args = [exe,filename1,filename2,i,j,k,deg]\n",
    "\n",
    "\n",
    "        "
   ]
  },
  {
   "cell_type": "code",
   "execution_count": 58,
   "metadata": {},
   "outputs": [
    {
     "data": {
      "text/plain": [
       "['../bin/Debug/registration.exe',\n",
       " 'C:\\\\FRANTISEK\\\\SKOLA FIIT\\\\bakalarka\\\\DATA\\\\PROSTATEx\\\\ProstateX-0000\\\\07-07-2011-MR prostaat kanker detectie WDSmc MCAPRODETW-05711\\\\4-t2tsetra-00702',\n",
       " 'C:\\\\FRANTISEK\\\\SKOLA FIIT\\\\bakalarka\\\\DATA\\\\PROSTATEx\\\\ProstateX-0000\\\\07-07-2011-MR prostaat kanker detectie WDSmc MCAPRODETW-05711\\\\skuska.dcm',\n",
       " '25',\n",
       " '31',\n",
       " '9',\n",
       " '45']"
      ]
     },
     "execution_count": 58,
     "metadata": {},
     "output_type": "execute_result"
    }
   ],
   "source": [
    "args\n"
   ]
  },
  {
   "cell_type": "code",
   "execution_count": 59,
   "metadata": {},
   "outputs": [],
   "source": [
    "p = subprocess.Popen(args, stdin=subprocess.PIPE, stdout=subprocess.PIPE, stderr=subprocess.PIPE)"
   ]
  },
  {
   "cell_type": "code",
   "execution_count": 45,
   "metadata": {},
   "outputs": [
    {
     "name": "stdout",
     "output_type": "stream",
     "text": [
      "b'\\r\\nThe directory: \\r\\n\\r\\nC:\\\\FRANTISEK\\\\SKOLA FIIT\\\\bakalarka\\\\DATA\\\\PROSTATEx\\\\ProstateX-0000\\\\07-07-2011-MR prostaat kanker detectie WDSmc MCAPRODETW-05711\\\\4-t2tsetra-00702\\r\\n\\r\\nContains the following DICOM Series: \\r\\n\\r\\n1.3.6.1.4.1.14519.5.2.1.7311.5101.160028252338004527274326500702.4tse2d125338438420110707\\r\\n\\r\\n\\r\\nNow reading series: \\r\\n\\r\\n1.3.6.1.4.1.14519.5.2.1.7311.5101.160028252338004527274326500702.4tse2d125338438420110707\\r\\n\\r\\n\\r\\nimageCenterX = 384\\r\\nimageCenterY = 384\\r\\nimageCenterX = 25\\r\\nimageCenterY = 31\\r\\nWriting the image as \\r\\n\\r\\nC:\\\\FRANTISEK\\\\SKOLA FIIT\\\\bakalarka\\\\DATA\\\\PROSTATEx\\\\ProstateX-0000\\\\07-07-2011-MR prostaat kanker detectie WDSmc MCAPRODETW-05711\\\\skuska.dcm\\r\\n\\r\\n'\n",
      "b'-57.6854 origin -82.3631,\\r\\n0.5 origin 0.5,\\r\\n'\n"
     ]
    }
   ],
   "source": [
    "(out, err) = p.communicate()\n",
    "print(out)\n",
    "print(err)"
   ]
  },
  {
   "cell_type": "code",
   "execution_count": null,
   "metadata": {},
   "outputs": [],
   "source": []
  }
 ],
 "metadata": {
  "kernelspec": {
   "display_name": "Python 3",
   "language": "python",
   "name": "python3"
  },
  "language_info": {
   "codemirror_mode": {
    "name": "ipython",
    "version": 3
   },
   "file_extension": ".py",
   "mimetype": "text/x-python",
   "name": "python",
   "nbconvert_exporter": "python",
   "pygments_lexer": "ipython3",
   "version": "3.6.5"
  }
 },
 "nbformat": 4,
 "nbformat_minor": 2
}
