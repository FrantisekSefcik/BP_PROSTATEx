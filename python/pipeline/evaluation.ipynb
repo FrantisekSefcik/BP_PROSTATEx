{
 "cells": [
  {
   "cell_type": "code",
   "execution_count": 1,
   "metadata": {},
   "outputs": [],
   "source": [
    "#%matplotlib inline\n",
    "import tensorflow as tf\n",
    "import numpy as np\n",
    "#import matplotlib.pyplot as plt\n",
    "from siamese.dataset import Dataset\n",
    "from siamese.dataset import DataLoader\n",
    "from siamese.model import *\n",
    "from extensies import metrics as mt\n",
    "from extensies import preprocessing as ps\n",
    "from matplotlib import gridspec\n",
    "\n",
    "from sklearn.model_selection import train_test_split\n",
    "import matplotlib.pyplot as plt\n",
    "from sklearn.metrics import accuracy_score\n",
    "from sklearn import metrics\n",
    "from sklearn.metrics import classification_report\n",
    "import pandas as pd \n",
    "import ast\n",
    "\n",
    "model_name = \"t2w_adc_ktrans_40\"\n",
    "\n",
    "columns = ['date','name','modality','size','model','num_of_data','iterations','augmentation',\n",
    "           'normalization','acc','acc_w','acc_p','auc','auc_w','auc_p','komentar']\n",
    "\n",
    "df = pd.read_csv('records.csv',index_col=0)"
   ]
  },
  {
   "cell_type": "code",
   "execution_count": 2,
   "metadata": {},
   "outputs": [
    {
     "data": {
      "text/plain": [
       "('ktrans_adc_40x40x1_58271', '40x40x1')"
      ]
     },
     "execution_count": 2,
     "metadata": {},
     "output_type": "execute_result"
    }
   ],
   "source": [
    "ps.generate_name([ 'adc/t/40x40x1', 'ktrans/t/40x40x1/'])"
   ]
  },
  {
   "cell_type": "code",
   "execution_count": 3,
   "metadata": {},
   "outputs": [
    {
     "data": {
      "text/html": [
       "<div>\n",
       "<style scoped>\n",
       "    .dataframe tbody tr th:only-of-type {\n",
       "        vertical-align: middle;\n",
       "    }\n",
       "\n",
       "    .dataframe tbody tr th {\n",
       "        vertical-align: top;\n",
       "    }\n",
       "\n",
       "    .dataframe thead th {\n",
       "        text-align: right;\n",
       "    }\n",
       "</style>\n",
       "<table border=\"1\" class=\"dataframe\">\n",
       "  <thead>\n",
       "    <tr style=\"text-align: right;\">\n",
       "      <th></th>\n",
       "      <th>date</th>\n",
       "      <th>name</th>\n",
       "      <th>modality</th>\n",
       "      <th>size</th>\n",
       "      <th>model</th>\n",
       "      <th>num_of_data</th>\n",
       "      <th>iterations</th>\n",
       "      <th>augmentation</th>\n",
       "      <th>normalization</th>\n",
       "      <th>acc</th>\n",
       "      <th>acc_w</th>\n",
       "      <th>acc_p</th>\n",
       "      <th>auc</th>\n",
       "      <th>auc_w</th>\n",
       "      <th>auc_p</th>\n",
       "      <th>komentar</th>\n",
       "    </tr>\n",
       "  </thead>\n",
       "  <tbody>\n",
       "    <tr>\n",
       "      <th>0</th>\n",
       "      <td>2019-03-20</td>\n",
       "      <td>t2tsetra_40x40x1_30090</td>\n",
       "      <td>['t2tsetra/t/40x40x1/']</td>\n",
       "      <td>40x40x1</td>\n",
       "      <td>siamese</td>\n",
       "      <td>323</td>\n",
       "      <td>1000</td>\n",
       "      <td>False</td>\n",
       "      <td>ScaleNormalization</td>\n",
       "      <td>0.744898</td>\n",
       "      <td>0.265306</td>\n",
       "      <td>0.673469</td>\n",
       "      <td>0.508658</td>\n",
       "      <td>0.515152</td>\n",
       "      <td>0.532468</td>\n",
       "      <td>NaN</td>\n",
       "    </tr>\n",
       "    <tr>\n",
       "      <th>1</th>\n",
       "      <td>2019-03-20</td>\n",
       "      <td>t2tsetra_40x40x1_24089</td>\n",
       "      <td>['t2tsetra/t/40x40x1/']</td>\n",
       "      <td>40x40x1</td>\n",
       "      <td>siamese</td>\n",
       "      <td>323</td>\n",
       "      <td>2000</td>\n",
       "      <td>False</td>\n",
       "      <td>ScaleNormalization</td>\n",
       "      <td>0.795918</td>\n",
       "      <td>0.295918</td>\n",
       "      <td>0.724490</td>\n",
       "      <td>0.575758</td>\n",
       "      <td>0.551948</td>\n",
       "      <td>0.564935</td>\n",
       "      <td>NaN</td>\n",
       "    </tr>\n",
       "    <tr>\n",
       "      <th>2</th>\n",
       "      <td>2019-03-20</td>\n",
       "      <td>t2tsetra_40x40x1_51626</td>\n",
       "      <td>['t2tsetra/t/40x40x1/']</td>\n",
       "      <td>40x40x1</td>\n",
       "      <td>siamese</td>\n",
       "      <td>323</td>\n",
       "      <td>3000</td>\n",
       "      <td>False</td>\n",
       "      <td>ScaleNormalization</td>\n",
       "      <td>0.806122</td>\n",
       "      <td>0.387755</td>\n",
       "      <td>0.755102</td>\n",
       "      <td>0.651515</td>\n",
       "      <td>0.593074</td>\n",
       "      <td>0.740260</td>\n",
       "      <td>NaN</td>\n",
       "    </tr>\n",
       "    <tr>\n",
       "      <th>3</th>\n",
       "      <td>2019-03-20</td>\n",
       "      <td>t2tsetra_40x40x1_96379</td>\n",
       "      <td>['t2tsetra/t/40x40x1/']</td>\n",
       "      <td>40x40x1</td>\n",
       "      <td>siamese</td>\n",
       "      <td>323</td>\n",
       "      <td>4000</td>\n",
       "      <td>False</td>\n",
       "      <td>ScaleNormalization</td>\n",
       "      <td>0.755102</td>\n",
       "      <td>0.397959</td>\n",
       "      <td>0.683673</td>\n",
       "      <td>0.549784</td>\n",
       "      <td>0.599567</td>\n",
       "      <td>0.642857</td>\n",
       "      <td>NaN</td>\n",
       "    </tr>\n",
       "    <tr>\n",
       "      <th>4</th>\n",
       "      <td>2019-03-20</td>\n",
       "      <td>adc_40x40x1_72631</td>\n",
       "      <td>['adc/t/40x40x1/']</td>\n",
       "      <td>40x40x1</td>\n",
       "      <td>siamese</td>\n",
       "      <td>324</td>\n",
       "      <td>1000</td>\n",
       "      <td>False</td>\n",
       "      <td>ScaleNormalization</td>\n",
       "      <td>0.775510</td>\n",
       "      <td>0.397959</td>\n",
       "      <td>0.704082</td>\n",
       "      <td>0.597403</td>\n",
       "      <td>0.547619</td>\n",
       "      <td>0.673160</td>\n",
       "      <td>NaN</td>\n",
       "    </tr>\n",
       "    <tr>\n",
       "      <th>5</th>\n",
       "      <td>2019-03-20</td>\n",
       "      <td>adc_40x40x1_18731</td>\n",
       "      <td>['adc/t/40x40x1/']</td>\n",
       "      <td>40x40x1</td>\n",
       "      <td>siamese</td>\n",
       "      <td>324</td>\n",
       "      <td>2000</td>\n",
       "      <td>False</td>\n",
       "      <td>ScaleNormalization</td>\n",
       "      <td>0.795918</td>\n",
       "      <td>0.540816</td>\n",
       "      <td>0.775510</td>\n",
       "      <td>0.662338</td>\n",
       "      <td>0.638528</td>\n",
       "      <td>0.701299</td>\n",
       "      <td>NaN</td>\n",
       "    </tr>\n",
       "    <tr>\n",
       "      <th>6</th>\n",
       "      <td>2019-03-20</td>\n",
       "      <td>adc_40x40x1_86012</td>\n",
       "      <td>['adc/t/40x40x1/']</td>\n",
       "      <td>40x40x1</td>\n",
       "      <td>siamese</td>\n",
       "      <td>324</td>\n",
       "      <td>3000</td>\n",
       "      <td>False</td>\n",
       "      <td>ScaleNormalization</td>\n",
       "      <td>0.704082</td>\n",
       "      <td>0.510204</td>\n",
       "      <td>0.683673</td>\n",
       "      <td>0.621212</td>\n",
       "      <td>0.584416</td>\n",
       "      <td>0.660173</td>\n",
       "      <td>NaN</td>\n",
       "    </tr>\n",
       "    <tr>\n",
       "      <th>7</th>\n",
       "      <td>2019-03-20</td>\n",
       "      <td>t2tsetra_adc_40x40x1_36217</td>\n",
       "      <td>['adc/t/40x40x1/', 't2tsetra/t/40x40x1']</td>\n",
       "      <td>40x40x1</td>\n",
       "      <td>siamese</td>\n",
       "      <td>4098</td>\n",
       "      <td>1000</td>\n",
       "      <td>Elastic</td>\n",
       "      <td>ScaleNormalization</td>\n",
       "      <td>0.795918</td>\n",
       "      <td>0.285714</td>\n",
       "      <td>0.724490</td>\n",
       "      <td>0.541126</td>\n",
       "      <td>0.545455</td>\n",
       "      <td>0.616883</td>\n",
       "      <td>NaN</td>\n",
       "    </tr>\n",
       "    <tr>\n",
       "      <th>8</th>\n",
       "      <td>2019-03-20</td>\n",
       "      <td>t2tsetra_adc_40x40x1_47376</td>\n",
       "      <td>['adc/t/40x40x1/', 't2tsetra/t/40x40x1']</td>\n",
       "      <td>40x40x1</td>\n",
       "      <td>siamese</td>\n",
       "      <td>4098</td>\n",
       "      <td>2000</td>\n",
       "      <td>Elastic</td>\n",
       "      <td>ScaleNormalization</td>\n",
       "      <td>0.775510</td>\n",
       "      <td>0.255102</td>\n",
       "      <td>0.714286</td>\n",
       "      <td>0.510823</td>\n",
       "      <td>0.508658</td>\n",
       "      <td>0.575758</td>\n",
       "      <td>NaN</td>\n",
       "    </tr>\n",
       "    <tr>\n",
       "      <th>9</th>\n",
       "      <td>2019-03-20</td>\n",
       "      <td>t2tsetra_adc_40x40x1_62224</td>\n",
       "      <td>['adc/t/40x40x1/', 't2tsetra/t/40x40x1']</td>\n",
       "      <td>40x40x1</td>\n",
       "      <td>siamese</td>\n",
       "      <td>4098</td>\n",
       "      <td>2500</td>\n",
       "      <td>Elastic</td>\n",
       "      <td>ScaleNormalization</td>\n",
       "      <td>0.795918</td>\n",
       "      <td>0.255102</td>\n",
       "      <td>0.744898</td>\n",
       "      <td>0.523810</td>\n",
       "      <td>0.491342</td>\n",
       "      <td>0.595238</td>\n",
       "      <td>NaN</td>\n",
       "    </tr>\n",
       "    <tr>\n",
       "      <th>10</th>\n",
       "      <td>2019-03-20</td>\n",
       "      <td>t2tsetra_adc_40x40x1_87634</td>\n",
       "      <td>['adc/t/40x40x1/', 't2tsetra/t/40x40x1']</td>\n",
       "      <td>40x40x1</td>\n",
       "      <td>siamese</td>\n",
       "      <td>324</td>\n",
       "      <td>1000</td>\n",
       "      <td>False</td>\n",
       "      <td>ScaleNormalization</td>\n",
       "      <td>0.765306</td>\n",
       "      <td>0.316327</td>\n",
       "      <td>0.693878</td>\n",
       "      <td>0.521645</td>\n",
       "      <td>0.530303</td>\n",
       "      <td>0.545455</td>\n",
       "      <td>NaN</td>\n",
       "    </tr>\n",
       "    <tr>\n",
       "      <th>11</th>\n",
       "      <td>2019-03-20</td>\n",
       "      <td>t2tsetra_adc_40x40x1_45058</td>\n",
       "      <td>['adc/t/40x40x1/', 't2tsetra/t/40x40x1']</td>\n",
       "      <td>40x40x1</td>\n",
       "      <td>siamese</td>\n",
       "      <td>324</td>\n",
       "      <td>2000</td>\n",
       "      <td>False</td>\n",
       "      <td>ScaleNormalization</td>\n",
       "      <td>0.765306</td>\n",
       "      <td>0.469388</td>\n",
       "      <td>0.785714</td>\n",
       "      <td>0.556277</td>\n",
       "      <td>0.593074</td>\n",
       "      <td>0.655844</td>\n",
       "      <td>NaN</td>\n",
       "    </tr>\n",
       "    <tr>\n",
       "      <th>12</th>\n",
       "      <td>2019-03-21</td>\n",
       "      <td>t2tsetra_28x28x1_49510</td>\n",
       "      <td>['t2tsetra/t/28x28x1']</td>\n",
       "      <td>28x28x1</td>\n",
       "      <td>siamese</td>\n",
       "      <td>324</td>\n",
       "      <td>2000</td>\n",
       "      <td>False</td>\n",
       "      <td>ScaleNormalization</td>\n",
       "      <td>0.765306</td>\n",
       "      <td>0.326531</td>\n",
       "      <td>0.724490</td>\n",
       "      <td>0.487013</td>\n",
       "      <td>0.502165</td>\n",
       "      <td>0.530303</td>\n",
       "      <td>NaN</td>\n",
       "    </tr>\n",
       "    <tr>\n",
       "      <th>13</th>\n",
       "      <td>2019-03-21</td>\n",
       "      <td>t2tsetra_28x28x1_72503</td>\n",
       "      <td>['t2tsetra/t/28x28x1']</td>\n",
       "      <td>28x28x1</td>\n",
       "      <td>siamese</td>\n",
       "      <td>324</td>\n",
       "      <td>1000</td>\n",
       "      <td>False</td>\n",
       "      <td>ScaleNormalization</td>\n",
       "      <td>0.765306</td>\n",
       "      <td>0.285714</td>\n",
       "      <td>0.683673</td>\n",
       "      <td>0.573593</td>\n",
       "      <td>0.528139</td>\n",
       "      <td>0.556277</td>\n",
       "      <td>NaN</td>\n",
       "    </tr>\n",
       "    <tr>\n",
       "      <th>14</th>\n",
       "      <td>2019-03-21</td>\n",
       "      <td>t2tsetra_28x28x1_18510</td>\n",
       "      <td>['t2tsetra/t/28x28x1']</td>\n",
       "      <td>28x28x1</td>\n",
       "      <td>siamese</td>\n",
       "      <td>324</td>\n",
       "      <td>3000</td>\n",
       "      <td>False</td>\n",
       "      <td>ScaleNormalization</td>\n",
       "      <td>0.744898</td>\n",
       "      <td>0.316327</td>\n",
       "      <td>0.673469</td>\n",
       "      <td>0.508658</td>\n",
       "      <td>0.478355</td>\n",
       "      <td>0.515152</td>\n",
       "      <td>NaN</td>\n",
       "    </tr>\n",
       "    <tr>\n",
       "      <th>15</th>\n",
       "      <td>2019-03-21</td>\n",
       "      <td>t2tsetra_28x28x1_50263</td>\n",
       "      <td>['t2tsetra/t/28x28x1']</td>\n",
       "      <td>28x28x1</td>\n",
       "      <td>siamese</td>\n",
       "      <td>324</td>\n",
       "      <td>700</td>\n",
       "      <td>False</td>\n",
       "      <td>ScaleNormalization</td>\n",
       "      <td>0.765306</td>\n",
       "      <td>0.265306</td>\n",
       "      <td>0.734694</td>\n",
       "      <td>0.487013</td>\n",
       "      <td>0.497835</td>\n",
       "      <td>0.519481</td>\n",
       "      <td>NaN</td>\n",
       "    </tr>\n",
       "    <tr>\n",
       "      <th>16</th>\n",
       "      <td>2019-03-21</td>\n",
       "      <td>adc_28x28x1_93210</td>\n",
       "      <td>['adc/t/28x28x1']</td>\n",
       "      <td>28x28x1</td>\n",
       "      <td>siamese</td>\n",
       "      <td>324</td>\n",
       "      <td>1000</td>\n",
       "      <td>False</td>\n",
       "      <td>ScaleNormalization</td>\n",
       "      <td>0.744898</td>\n",
       "      <td>0.336735</td>\n",
       "      <td>0.653061</td>\n",
       "      <td>0.508658</td>\n",
       "      <td>0.491342</td>\n",
       "      <td>0.502165</td>\n",
       "      <td>NaN</td>\n",
       "    </tr>\n",
       "    <tr>\n",
       "      <th>17</th>\n",
       "      <td>2019-03-21</td>\n",
       "      <td>adc_28x28x1_41781</td>\n",
       "      <td>['adc/t/28x28x1']</td>\n",
       "      <td>28x28x1</td>\n",
       "      <td>siamese</td>\n",
       "      <td>324</td>\n",
       "      <td>2000</td>\n",
       "      <td>False</td>\n",
       "      <td>ScaleNormalization</td>\n",
       "      <td>0.826531</td>\n",
       "      <td>0.418367</td>\n",
       "      <td>0.734694</td>\n",
       "      <td>0.647186</td>\n",
       "      <td>0.560606</td>\n",
       "      <td>0.606061</td>\n",
       "      <td>NaN</td>\n",
       "    </tr>\n",
       "    <tr>\n",
       "      <th>18</th>\n",
       "      <td>2019-03-21</td>\n",
       "      <td>adc_28x28x1_58531</td>\n",
       "      <td>['adc/t/28x28x1']</td>\n",
       "      <td>28x28x1</td>\n",
       "      <td>siamese</td>\n",
       "      <td>324</td>\n",
       "      <td>2500</td>\n",
       "      <td>False</td>\n",
       "      <td>ScaleNormalization</td>\n",
       "      <td>0.795918</td>\n",
       "      <td>0.459184</td>\n",
       "      <td>0.775510</td>\n",
       "      <td>0.610390</td>\n",
       "      <td>0.586580</td>\n",
       "      <td>0.649351</td>\n",
       "      <td>NaN</td>\n",
       "    </tr>\n",
       "    <tr>\n",
       "      <th>19</th>\n",
       "      <td>2019-03-22</td>\n",
       "      <td>t2tsetra_30x30x1_75190</td>\n",
       "      <td>['t2tsetra/t/30x30x1']</td>\n",
       "      <td>30x30x1</td>\n",
       "      <td>siamese</td>\n",
       "      <td>4000</td>\n",
       "      <td>2500</td>\n",
       "      <td>Rigid</td>\n",
       "      <td>ScaleNormalization</td>\n",
       "      <td>0.639175</td>\n",
       "      <td>0.680412</td>\n",
       "      <td>0.639175</td>\n",
       "      <td>0.522546</td>\n",
       "      <td>0.549943</td>\n",
       "      <td>0.522546</td>\n",
       "      <td>NaN</td>\n",
       "    </tr>\n",
       "    <tr>\n",
       "      <th>20</th>\n",
       "      <td>2019-03-22</td>\n",
       "      <td>t2tsetra_30x30x1_55939</td>\n",
       "      <td>['t2tsetra/t/30x30x1']</td>\n",
       "      <td>30x30x1</td>\n",
       "      <td>siamese</td>\n",
       "      <td>4000</td>\n",
       "      <td>5000</td>\n",
       "      <td>Rigid</td>\n",
       "      <td>ScaleNormalization</td>\n",
       "      <td>0.701031</td>\n",
       "      <td>0.659794</td>\n",
       "      <td>0.701031</td>\n",
       "      <td>0.521689</td>\n",
       "      <td>0.578196</td>\n",
       "      <td>0.521689</td>\n",
       "      <td>NaN</td>\n",
       "    </tr>\n",
       "    <tr>\n",
       "      <th>21</th>\n",
       "      <td>2019-03-22</td>\n",
       "      <td>t2tsetra_30x30x1_79413</td>\n",
       "      <td>['t2tsetra/t/30x30x1']</td>\n",
       "      <td>30x30x1</td>\n",
       "      <td>siamese</td>\n",
       "      <td>4000</td>\n",
       "      <td>2000</td>\n",
       "      <td>Rigid</td>\n",
       "      <td>ScaleNormalization</td>\n",
       "      <td>0.680412</td>\n",
       "      <td>0.690722</td>\n",
       "      <td>0.680412</td>\n",
       "      <td>0.535959</td>\n",
       "      <td>0.514840</td>\n",
       "      <td>0.535959</td>\n",
       "      <td>NaN</td>\n",
       "    </tr>\n",
       "    <tr>\n",
       "      <th>22</th>\n",
       "      <td>2019-03-22</td>\n",
       "      <td>t2tsetra_30x30x1_45072</td>\n",
       "      <td>['t2tsetra/t/30x30x1']</td>\n",
       "      <td>30x30x1</td>\n",
       "      <td>siamese</td>\n",
       "      <td>4000</td>\n",
       "      <td>4000</td>\n",
       "      <td>Rigid</td>\n",
       "      <td>ScaleNormalization</td>\n",
       "      <td>0.670103</td>\n",
       "      <td>0.659794</td>\n",
       "      <td>0.670103</td>\n",
       "      <td>0.529110</td>\n",
       "      <td>0.578196</td>\n",
       "      <td>0.529110</td>\n",
       "      <td>NaN</td>\n",
       "    </tr>\n",
       "    <tr>\n",
       "      <th>23</th>\n",
       "      <td>2019-03-24</td>\n",
       "      <td>ktrans_a_40x40x1_53880</td>\n",
       "      <td>['t2tsetra/t/40x40x1', 'adc/t/40x40x1', 'ktran...</td>\n",
       "      <td>40x40x1</td>\n",
       "      <td>siamese</td>\n",
       "      <td>323</td>\n",
       "      <td>1000</td>\n",
       "      <td>False</td>\n",
       "      <td>ScaleNormalization</td>\n",
       "      <td>0.752577</td>\n",
       "      <td>0.381443</td>\n",
       "      <td>0.731959</td>\n",
       "      <td>0.583904</td>\n",
       "      <td>0.505137</td>\n",
       "      <td>0.654110</td>\n",
       "      <td>NaN</td>\n",
       "    </tr>\n",
       "    <tr>\n",
       "      <th>24</th>\n",
       "      <td>2019-03-24</td>\n",
       "      <td>ktrans_a_40x40x1_12959</td>\n",
       "      <td>['t2tsetra/t/40x40x1', 'adc/t/40x40x1', 'ktran...</td>\n",
       "      <td>40x40x1</td>\n",
       "      <td>siamese</td>\n",
       "      <td>323</td>\n",
       "      <td>700</td>\n",
       "      <td>False</td>\n",
       "      <td>ScaleNormalization</td>\n",
       "      <td>0.731959</td>\n",
       "      <td>0.422680</td>\n",
       "      <td>0.721649</td>\n",
       "      <td>0.542237</td>\n",
       "      <td>0.532534</td>\n",
       "      <td>0.591324</td>\n",
       "      <td>NaN</td>\n",
       "    </tr>\n",
       "    <tr>\n",
       "      <th>25</th>\n",
       "      <td>2019-03-24</td>\n",
       "      <td>ktrans_t_40x40x1_76025</td>\n",
       "      <td>['adc/t/40x40x1', 't2tsetra/t/40x40x1', 'ktran...</td>\n",
       "      <td>40x40x1</td>\n",
       "      <td>siamese</td>\n",
       "      <td>323</td>\n",
       "      <td>1000</td>\n",
       "      <td>False</td>\n",
       "      <td>ScaleNormalization</td>\n",
       "      <td>0.742268</td>\n",
       "      <td>0.319588</td>\n",
       "      <td>0.659794</td>\n",
       "      <td>0.563071</td>\n",
       "      <td>0.533961</td>\n",
       "      <td>0.564212</td>\n",
       "      <td>NaN</td>\n",
       "    </tr>\n",
       "    <tr>\n",
       "      <th>26</th>\n",
       "      <td>2019-03-24</td>\n",
       "      <td>t2tsetra_adc_40x40x1_89872</td>\n",
       "      <td>['adc/t/40x40x1', 't2tsetra/t/40x40x1']</td>\n",
       "      <td>40x40x1</td>\n",
       "      <td>siamese</td>\n",
       "      <td>323</td>\n",
       "      <td>1000</td>\n",
       "      <td>False</td>\n",
       "      <td>ScaleNormalization</td>\n",
       "      <td>0.752577</td>\n",
       "      <td>0.350515</td>\n",
       "      <td>0.742268</td>\n",
       "      <td>0.555936</td>\n",
       "      <td>0.484589</td>\n",
       "      <td>0.619007</td>\n",
       "      <td>NaN</td>\n",
       "    </tr>\n",
       "    <tr>\n",
       "      <th>27</th>\n",
       "      <td>2019-03-24</td>\n",
       "      <td>t2tsetra_adc_40x40x1_61634</td>\n",
       "      <td>['adc/t/40x40x1', 't2tsetra/t/40x40x1']</td>\n",
       "      <td>40x40x1</td>\n",
       "      <td>siamese</td>\n",
       "      <td>323</td>\n",
       "      <td>2000</td>\n",
       "      <td>False</td>\n",
       "      <td>ScaleNormalization</td>\n",
       "      <td>0.731959</td>\n",
       "      <td>0.567010</td>\n",
       "      <td>0.711340</td>\n",
       "      <td>0.556221</td>\n",
       "      <td>0.600457</td>\n",
       "      <td>0.598459</td>\n",
       "      <td>NaN</td>\n",
       "    </tr>\n",
       "    <tr>\n",
       "      <th>28</th>\n",
       "      <td>2019-03-24</td>\n",
       "      <td>t2tsetra_adc_40x40x1_92623</td>\n",
       "      <td>['adc/t/40x40x1', 't2tsetra/t/40x40x1']</td>\n",
       "      <td>40x40x1</td>\n",
       "      <td>siamese</td>\n",
       "      <td>323</td>\n",
       "      <td>3000</td>\n",
       "      <td>False</td>\n",
       "      <td>ScaleNormalization</td>\n",
       "      <td>0.711340</td>\n",
       "      <td>0.680412</td>\n",
       "      <td>0.690722</td>\n",
       "      <td>0.570491</td>\n",
       "      <td>0.675799</td>\n",
       "      <td>0.556792</td>\n",
       "      <td>NaN</td>\n",
       "    </tr>\n",
       "    <tr>\n",
       "      <th>29</th>\n",
       "      <td>2019-03-24</td>\n",
       "      <td>adc_40x40x1_41784</td>\n",
       "      <td>['adc/t/40x40x1']</td>\n",
       "      <td>40x40x1</td>\n",
       "      <td>siamese</td>\n",
       "      <td>323</td>\n",
       "      <td>1500</td>\n",
       "      <td>False</td>\n",
       "      <td>ScaleNormalization</td>\n",
       "      <td>0.721649</td>\n",
       "      <td>0.494845</td>\n",
       "      <td>0.680412</td>\n",
       "      <td>0.535388</td>\n",
       "      <td>0.608447</td>\n",
       "      <td>0.549943</td>\n",
       "      <td>NaN</td>\n",
       "    </tr>\n",
       "    <tr>\n",
       "      <th>30</th>\n",
       "      <td>2019-03-24</td>\n",
       "      <td>adc_40x40x1_16826</td>\n",
       "      <td>['adc/t/40x40x1']</td>\n",
       "      <td>40x40x1</td>\n",
       "      <td>siamese</td>\n",
       "      <td>323</td>\n",
       "      <td>1000</td>\n",
       "      <td>False</td>\n",
       "      <td>ScaleNormalization</td>\n",
       "      <td>0.752577</td>\n",
       "      <td>0.381443</td>\n",
       "      <td>0.721649</td>\n",
       "      <td>0.611872</td>\n",
       "      <td>0.533105</td>\n",
       "      <td>0.661244</td>\n",
       "      <td>NaN</td>\n",
       "    </tr>\n",
       "    <tr>\n",
       "      <th>31</th>\n",
       "      <td>2019-03-24</td>\n",
       "      <td>adc_40x40x1_27456</td>\n",
       "      <td>['adc/t/40x40x1']</td>\n",
       "      <td>40x40x1</td>\n",
       "      <td>siamese</td>\n",
       "      <td>323</td>\n",
       "      <td>700</td>\n",
       "      <td>False</td>\n",
       "      <td>ScaleNormalization</td>\n",
       "      <td>0.711340</td>\n",
       "      <td>0.371134</td>\n",
       "      <td>0.701031</td>\n",
       "      <td>0.500571</td>\n",
       "      <td>0.526256</td>\n",
       "      <td>0.605594</td>\n",
       "      <td>NaN</td>\n",
       "    </tr>\n",
       "    <tr>\n",
       "      <th>32</th>\n",
       "      <td>2019-03-24</td>\n",
       "      <td>adc_20x20x1_25798</td>\n",
       "      <td>['adc/t/20x20x1']</td>\n",
       "      <td>20x20x1</td>\n",
       "      <td>siamese</td>\n",
       "      <td>323</td>\n",
       "      <td>700</td>\n",
       "      <td>False</td>\n",
       "      <td>ScaleNormalization</td>\n",
       "      <td>0.731959</td>\n",
       "      <td>0.329897</td>\n",
       "      <td>0.721649</td>\n",
       "      <td>0.486301</td>\n",
       "      <td>0.554795</td>\n",
       "      <td>0.549372</td>\n",
       "      <td>NaN</td>\n",
       "    </tr>\n",
       "    <tr>\n",
       "      <th>33</th>\n",
       "      <td>2019-03-24</td>\n",
       "      <td>adc_20x20x1_97422</td>\n",
       "      <td>['adc/t/20x20x1']</td>\n",
       "      <td>20x20x1</td>\n",
       "      <td>siamese</td>\n",
       "      <td>323</td>\n",
       "      <td>1000</td>\n",
       "      <td>False</td>\n",
       "      <td>ScaleNormalization</td>\n",
       "      <td>0.742268</td>\n",
       "      <td>0.350515</td>\n",
       "      <td>0.701031</td>\n",
       "      <td>0.521119</td>\n",
       "      <td>0.498573</td>\n",
       "      <td>0.521689</td>\n",
       "      <td>NaN</td>\n",
       "    </tr>\n",
       "    <tr>\n",
       "      <th>34</th>\n",
       "      <td>2019-03-25</td>\n",
       "      <td>adc_40x40x1_68111</td>\n",
       "      <td>['adc/t/40x40x1']</td>\n",
       "      <td>40x40x1</td>\n",
       "      <td>siamese</td>\n",
       "      <td>323</td>\n",
       "      <td>1000</td>\n",
       "      <td>False</td>\n",
       "      <td>ScaleNormalization</td>\n",
       "      <td>0.711340</td>\n",
       "      <td>0.432990</td>\n",
       "      <td>0.690722</td>\n",
       "      <td>0.514555</td>\n",
       "      <td>0.581336</td>\n",
       "      <td>0.598744</td>\n",
       "      <td>NaN</td>\n",
       "    </tr>\n",
       "    <tr>\n",
       "      <th>35</th>\n",
       "      <td>2019-03-25</td>\n",
       "      <td>adc_40x40x1_90343</td>\n",
       "      <td>['adc/t/40x40x1']</td>\n",
       "      <td>40x40x1</td>\n",
       "      <td>siamese</td>\n",
       "      <td>187</td>\n",
       "      <td>1000</td>\n",
       "      <td>False</td>\n",
       "      <td>ScaleNormalization</td>\n",
       "      <td>0.721649</td>\n",
       "      <td>0.360825</td>\n",
       "      <td>0.649485</td>\n",
       "      <td>0.507420</td>\n",
       "      <td>0.533390</td>\n",
       "      <td>0.543379</td>\n",
       "      <td>NaN</td>\n",
       "    </tr>\n",
       "    <tr>\n",
       "      <th>36</th>\n",
       "      <td>2019-03-25</td>\n",
       "      <td>t2tsetra_40x40x1_70244</td>\n",
       "      <td>['t2tsetra/t/40x40x1']</td>\n",
       "      <td>40x40x1</td>\n",
       "      <td>siamese</td>\n",
       "      <td>2500</td>\n",
       "      <td>1000</td>\n",
       "      <td>Elastic</td>\n",
       "      <td>ScaleNormalization</td>\n",
       "      <td>NaN</td>\n",
       "      <td>NaN</td>\n",
       "      <td>NaN</td>\n",
       "      <td>NaN</td>\n",
       "      <td>NaN</td>\n",
       "      <td>NaN</td>\n",
       "      <td>NaN</td>\n",
       "    </tr>\n",
       "    <tr>\n",
       "      <th>37</th>\n",
       "      <td>2019-03-26</td>\n",
       "      <td>ktrans_a_40x40x1_82320</td>\n",
       "      <td>['t2tsetra/t/40x40x1', 'adc/t/40x40x1', 'ktran...</td>\n",
       "      <td>40x40x1</td>\n",
       "      <td>siamese</td>\n",
       "      <td>187</td>\n",
       "      <td>1000</td>\n",
       "      <td>False</td>\n",
       "      <td>ScaleNormalization</td>\n",
       "      <td>0.842105</td>\n",
       "      <td>0.491228</td>\n",
       "      <td>0.807018</td>\n",
       "      <td>0.646684</td>\n",
       "      <td>0.651786</td>\n",
       "      <td>0.626276</td>\n",
       "      <td>NaN</td>\n",
       "    </tr>\n",
       "  </tbody>\n",
       "</table>\n",
       "</div>"
      ],
      "text/plain": [
       "          date                        name  \\\n",
       "0   2019-03-20      t2tsetra_40x40x1_30090   \n",
       "1   2019-03-20      t2tsetra_40x40x1_24089   \n",
       "2   2019-03-20      t2tsetra_40x40x1_51626   \n",
       "3   2019-03-20      t2tsetra_40x40x1_96379   \n",
       "4   2019-03-20           adc_40x40x1_72631   \n",
       "5   2019-03-20           adc_40x40x1_18731   \n",
       "6   2019-03-20           adc_40x40x1_86012   \n",
       "7   2019-03-20  t2tsetra_adc_40x40x1_36217   \n",
       "8   2019-03-20  t2tsetra_adc_40x40x1_47376   \n",
       "9   2019-03-20  t2tsetra_adc_40x40x1_62224   \n",
       "10  2019-03-20  t2tsetra_adc_40x40x1_87634   \n",
       "11  2019-03-20  t2tsetra_adc_40x40x1_45058   \n",
       "12  2019-03-21      t2tsetra_28x28x1_49510   \n",
       "13  2019-03-21      t2tsetra_28x28x1_72503   \n",
       "14  2019-03-21      t2tsetra_28x28x1_18510   \n",
       "15  2019-03-21      t2tsetra_28x28x1_50263   \n",
       "16  2019-03-21           adc_28x28x1_93210   \n",
       "17  2019-03-21           adc_28x28x1_41781   \n",
       "18  2019-03-21           adc_28x28x1_58531   \n",
       "19  2019-03-22      t2tsetra_30x30x1_75190   \n",
       "20  2019-03-22      t2tsetra_30x30x1_55939   \n",
       "21  2019-03-22      t2tsetra_30x30x1_79413   \n",
       "22  2019-03-22      t2tsetra_30x30x1_45072   \n",
       "23  2019-03-24      ktrans_a_40x40x1_53880   \n",
       "24  2019-03-24      ktrans_a_40x40x1_12959   \n",
       "25  2019-03-24      ktrans_t_40x40x1_76025   \n",
       "26  2019-03-24  t2tsetra_adc_40x40x1_89872   \n",
       "27  2019-03-24  t2tsetra_adc_40x40x1_61634   \n",
       "28  2019-03-24  t2tsetra_adc_40x40x1_92623   \n",
       "29  2019-03-24           adc_40x40x1_41784   \n",
       "30  2019-03-24           adc_40x40x1_16826   \n",
       "31  2019-03-24           adc_40x40x1_27456   \n",
       "32  2019-03-24           adc_20x20x1_25798   \n",
       "33  2019-03-24           adc_20x20x1_97422   \n",
       "34  2019-03-25           adc_40x40x1_68111   \n",
       "35  2019-03-25           adc_40x40x1_90343   \n",
       "36  2019-03-25      t2tsetra_40x40x1_70244   \n",
       "37  2019-03-26      ktrans_a_40x40x1_82320   \n",
       "\n",
       "                                             modality     size    model  \\\n",
       "0                             ['t2tsetra/t/40x40x1/']  40x40x1  siamese   \n",
       "1                             ['t2tsetra/t/40x40x1/']  40x40x1  siamese   \n",
       "2                             ['t2tsetra/t/40x40x1/']  40x40x1  siamese   \n",
       "3                             ['t2tsetra/t/40x40x1/']  40x40x1  siamese   \n",
       "4                                  ['adc/t/40x40x1/']  40x40x1  siamese   \n",
       "5                                  ['adc/t/40x40x1/']  40x40x1  siamese   \n",
       "6                                  ['adc/t/40x40x1/']  40x40x1  siamese   \n",
       "7            ['adc/t/40x40x1/', 't2tsetra/t/40x40x1']  40x40x1  siamese   \n",
       "8            ['adc/t/40x40x1/', 't2tsetra/t/40x40x1']  40x40x1  siamese   \n",
       "9            ['adc/t/40x40x1/', 't2tsetra/t/40x40x1']  40x40x1  siamese   \n",
       "10           ['adc/t/40x40x1/', 't2tsetra/t/40x40x1']  40x40x1  siamese   \n",
       "11           ['adc/t/40x40x1/', 't2tsetra/t/40x40x1']  40x40x1  siamese   \n",
       "12                             ['t2tsetra/t/28x28x1']  28x28x1  siamese   \n",
       "13                             ['t2tsetra/t/28x28x1']  28x28x1  siamese   \n",
       "14                             ['t2tsetra/t/28x28x1']  28x28x1  siamese   \n",
       "15                             ['t2tsetra/t/28x28x1']  28x28x1  siamese   \n",
       "16                                  ['adc/t/28x28x1']  28x28x1  siamese   \n",
       "17                                  ['adc/t/28x28x1']  28x28x1  siamese   \n",
       "18                                  ['adc/t/28x28x1']  28x28x1  siamese   \n",
       "19                             ['t2tsetra/t/30x30x1']  30x30x1  siamese   \n",
       "20                             ['t2tsetra/t/30x30x1']  30x30x1  siamese   \n",
       "21                             ['t2tsetra/t/30x30x1']  30x30x1  siamese   \n",
       "22                             ['t2tsetra/t/30x30x1']  30x30x1  siamese   \n",
       "23  ['t2tsetra/t/40x40x1', 'adc/t/40x40x1', 'ktran...  40x40x1  siamese   \n",
       "24  ['t2tsetra/t/40x40x1', 'adc/t/40x40x1', 'ktran...  40x40x1  siamese   \n",
       "25  ['adc/t/40x40x1', 't2tsetra/t/40x40x1', 'ktran...  40x40x1  siamese   \n",
       "26            ['adc/t/40x40x1', 't2tsetra/t/40x40x1']  40x40x1  siamese   \n",
       "27            ['adc/t/40x40x1', 't2tsetra/t/40x40x1']  40x40x1  siamese   \n",
       "28            ['adc/t/40x40x1', 't2tsetra/t/40x40x1']  40x40x1  siamese   \n",
       "29                                  ['adc/t/40x40x1']  40x40x1  siamese   \n",
       "30                                  ['adc/t/40x40x1']  40x40x1  siamese   \n",
       "31                                  ['adc/t/40x40x1']  40x40x1  siamese   \n",
       "32                                  ['adc/t/20x20x1']  20x20x1  siamese   \n",
       "33                                  ['adc/t/20x20x1']  20x20x1  siamese   \n",
       "34                                  ['adc/t/40x40x1']  40x40x1  siamese   \n",
       "35                                  ['adc/t/40x40x1']  40x40x1  siamese   \n",
       "36                             ['t2tsetra/t/40x40x1']  40x40x1  siamese   \n",
       "37  ['t2tsetra/t/40x40x1', 'adc/t/40x40x1', 'ktran...  40x40x1  siamese   \n",
       "\n",
       "    num_of_data  iterations augmentation       normalization       acc  \\\n",
       "0           323        1000        False  ScaleNormalization  0.744898   \n",
       "1           323        2000        False  ScaleNormalization  0.795918   \n",
       "2           323        3000        False  ScaleNormalization  0.806122   \n",
       "3           323        4000        False  ScaleNormalization  0.755102   \n",
       "4           324        1000        False  ScaleNormalization  0.775510   \n",
       "5           324        2000        False  ScaleNormalization  0.795918   \n",
       "6           324        3000        False  ScaleNormalization  0.704082   \n",
       "7          4098        1000      Elastic  ScaleNormalization  0.795918   \n",
       "8          4098        2000      Elastic  ScaleNormalization  0.775510   \n",
       "9          4098        2500      Elastic  ScaleNormalization  0.795918   \n",
       "10          324        1000        False  ScaleNormalization  0.765306   \n",
       "11          324        2000        False  ScaleNormalization  0.765306   \n",
       "12          324        2000        False  ScaleNormalization  0.765306   \n",
       "13          324        1000        False  ScaleNormalization  0.765306   \n",
       "14          324        3000        False  ScaleNormalization  0.744898   \n",
       "15          324         700        False  ScaleNormalization  0.765306   \n",
       "16          324        1000        False  ScaleNormalization  0.744898   \n",
       "17          324        2000        False  ScaleNormalization  0.826531   \n",
       "18          324        2500        False  ScaleNormalization  0.795918   \n",
       "19         4000        2500        Rigid  ScaleNormalization  0.639175   \n",
       "20         4000        5000        Rigid  ScaleNormalization  0.701031   \n",
       "21         4000        2000        Rigid  ScaleNormalization  0.680412   \n",
       "22         4000        4000        Rigid  ScaleNormalization  0.670103   \n",
       "23          323        1000        False  ScaleNormalization  0.752577   \n",
       "24          323         700        False  ScaleNormalization  0.731959   \n",
       "25          323        1000        False  ScaleNormalization  0.742268   \n",
       "26          323        1000        False  ScaleNormalization  0.752577   \n",
       "27          323        2000        False  ScaleNormalization  0.731959   \n",
       "28          323        3000        False  ScaleNormalization  0.711340   \n",
       "29          323        1500        False  ScaleNormalization  0.721649   \n",
       "30          323        1000        False  ScaleNormalization  0.752577   \n",
       "31          323         700        False  ScaleNormalization  0.711340   \n",
       "32          323         700        False  ScaleNormalization  0.731959   \n",
       "33          323        1000        False  ScaleNormalization  0.742268   \n",
       "34          323        1000        False  ScaleNormalization  0.711340   \n",
       "35          187        1000        False  ScaleNormalization  0.721649   \n",
       "36         2500        1000      Elastic  ScaleNormalization       NaN   \n",
       "37          187        1000        False  ScaleNormalization  0.842105   \n",
       "\n",
       "       acc_w     acc_p       auc     auc_w     auc_p  komentar  \n",
       "0   0.265306  0.673469  0.508658  0.515152  0.532468       NaN  \n",
       "1   0.295918  0.724490  0.575758  0.551948  0.564935       NaN  \n",
       "2   0.387755  0.755102  0.651515  0.593074  0.740260       NaN  \n",
       "3   0.397959  0.683673  0.549784  0.599567  0.642857       NaN  \n",
       "4   0.397959  0.704082  0.597403  0.547619  0.673160       NaN  \n",
       "5   0.540816  0.775510  0.662338  0.638528  0.701299       NaN  \n",
       "6   0.510204  0.683673  0.621212  0.584416  0.660173       NaN  \n",
       "7   0.285714  0.724490  0.541126  0.545455  0.616883       NaN  \n",
       "8   0.255102  0.714286  0.510823  0.508658  0.575758       NaN  \n",
       "9   0.255102  0.744898  0.523810  0.491342  0.595238       NaN  \n",
       "10  0.316327  0.693878  0.521645  0.530303  0.545455       NaN  \n",
       "11  0.469388  0.785714  0.556277  0.593074  0.655844       NaN  \n",
       "12  0.326531  0.724490  0.487013  0.502165  0.530303       NaN  \n",
       "13  0.285714  0.683673  0.573593  0.528139  0.556277       NaN  \n",
       "14  0.316327  0.673469  0.508658  0.478355  0.515152       NaN  \n",
       "15  0.265306  0.734694  0.487013  0.497835  0.519481       NaN  \n",
       "16  0.336735  0.653061  0.508658  0.491342  0.502165       NaN  \n",
       "17  0.418367  0.734694  0.647186  0.560606  0.606061       NaN  \n",
       "18  0.459184  0.775510  0.610390  0.586580  0.649351       NaN  \n",
       "19  0.680412  0.639175  0.522546  0.549943  0.522546       NaN  \n",
       "20  0.659794  0.701031  0.521689  0.578196  0.521689       NaN  \n",
       "21  0.690722  0.680412  0.535959  0.514840  0.535959       NaN  \n",
       "22  0.659794  0.670103  0.529110  0.578196  0.529110       NaN  \n",
       "23  0.381443  0.731959  0.583904  0.505137  0.654110       NaN  \n",
       "24  0.422680  0.721649  0.542237  0.532534  0.591324       NaN  \n",
       "25  0.319588  0.659794  0.563071  0.533961  0.564212       NaN  \n",
       "26  0.350515  0.742268  0.555936  0.484589  0.619007       NaN  \n",
       "27  0.567010  0.711340  0.556221  0.600457  0.598459       NaN  \n",
       "28  0.680412  0.690722  0.570491  0.675799  0.556792       NaN  \n",
       "29  0.494845  0.680412  0.535388  0.608447  0.549943       NaN  \n",
       "30  0.381443  0.721649  0.611872  0.533105  0.661244       NaN  \n",
       "31  0.371134  0.701031  0.500571  0.526256  0.605594       NaN  \n",
       "32  0.329897  0.721649  0.486301  0.554795  0.549372       NaN  \n",
       "33  0.350515  0.701031  0.521119  0.498573  0.521689       NaN  \n",
       "34  0.432990  0.690722  0.514555  0.581336  0.598744       NaN  \n",
       "35  0.360825  0.649485  0.507420  0.533390  0.543379       NaN  \n",
       "36       NaN       NaN       NaN       NaN       NaN       NaN  \n",
       "37  0.491228  0.807018  0.646684  0.651786  0.626276       NaN  "
      ]
     },
     "execution_count": 3,
     "metadata": {},
     "output_type": "execute_result"
    }
   ],
   "source": [
    "df"
   ]
  },
  {
   "cell_type": "code",
   "execution_count": 6,
   "metadata": {},
   "outputs": [],
   "source": [
    "idx = 37\n",
    "\n",
    "model_name = df.iloc[idx]['name']\n",
    "modalities = df.iloc[idx]['modality']\n",
    "modalities = ast.literal_eval(modalities)\n",
    "combined = True"
   ]
  },
  {
   "cell_type": "code",
   "execution_count": 7,
   "metadata": {},
   "outputs": [
    {
     "data": {
      "text/plain": [
       "'ktrans_a_40x40x1_82320'"
      ]
     },
     "execution_count": 7,
     "metadata": {},
     "output_type": "execute_result"
    }
   ],
   "source": [
    "model_name"
   ]
  },
  {
   "cell_type": "code",
   "execution_count": 8,
   "metadata": {},
   "outputs": [],
   "source": [
    "if combined:\n",
    "    loader = DataLoader('../../data/',modalities)\n",
    "    loader.load_data()\n",
    "    X,y = loader.combine_channels(modalities)\n",
    "    X_train, X_test, y_train, y_test = loader.get_train_test('combined')\n",
    "#     X_train, X_test, y_train, y_test = train_test_split(X, y, test_size=0.3, random_state=42)\n",
    "\n",
    "else:\n",
    "    loader = DataLoader('../../data/',modalities)\n",
    "    loader.load_data()\n",
    "    X,y = loader.get_data(modalities[0])\n",
    "    X_train, X_test, y_train, y_test = loader.get_train_test(modalities[0])\n",
    "#     X_train, X_test, y_train, y_test = train_test_split(X, y, test_size=0.3, random_state=42)"
   ]
  },
  {
   "cell_type": "code",
   "execution_count": 9,
   "metadata": {},
   "outputs": [
    {
     "data": {
      "text/plain": [
       "(40, 40, 3)"
      ]
     },
     "execution_count": 9,
     "metadata": {},
     "output_type": "execute_result"
    }
   ],
   "source": [
    "X_train[0].shape"
   ]
  },
  {
   "cell_type": "markdown",
   "metadata": {},
   "source": [
    "### Simple modality"
   ]
  },
  {
   "cell_type": "code",
   "execution_count": 10,
   "metadata": {},
   "outputs": [],
   "source": [
    "dataset = Dataset()"
   ]
  },
  {
   "cell_type": "code",
   "execution_count": 11,
   "metadata": {},
   "outputs": [],
   "source": [
    "dataset.images_train = X_train\n",
    "dataset.images_test = X_test\n",
    "dataset.labels_train = y_train\n",
    "dataset.labels_test = y_test\n"
   ]
  },
  {
   "cell_type": "markdown",
   "metadata": {},
   "source": [
    "## Create the siamese net feature extraction model"
   ]
  },
  {
   "cell_type": "code",
   "execution_count": 12,
   "metadata": {},
   "outputs": [],
   "source": [
    "img_placeholder = tf.placeholder(tf.float32, [None] + list(dataset.images_train.shape[1:]), name='img')\n",
    "net = mnist_model(img_placeholder, reuse=False)"
   ]
  },
  {
   "cell_type": "markdown",
   "metadata": {},
   "source": [
    "## Restore from checkpoint and calc the features from all of train data"
   ]
  },
  {
   "cell_type": "code",
   "execution_count": 13,
   "metadata": {},
   "outputs": [
    {
     "name": "stdout",
     "output_type": "stream",
     "text": [
      "INFO:tensorflow:Restoring parameters from model/ktrans_a_40x40x1_82320.ckpt\n"
     ]
    }
   ],
   "source": [
    "#run the train image through the network to get the test features\n",
    "saver = tf.train.Saver()\n",
    "with tf.Session() as sess:\n",
    "    sess.run(tf.global_variables_initializer())\n",
    "    ckpt = tf.train.get_checkpoint_state(\"model\")\n",
    "    saver.restore(sess, \"model/\" + model_name + \".ckpt\")\n",
    "    train_feat = sess.run(net, feed_dict={img_placeholder:dataset.images_train})"
   ]
  },
  {
   "cell_type": "code",
   "execution_count": 14,
   "metadata": {
    "scrolled": true
   },
   "outputs": [
    {
     "name": "stdout",
     "output_type": "stream",
     "text": [
      "INFO:tensorflow:Restoring parameters from model/ktrans_a_40x40x1_82320.ckpt\n"
     ]
    }
   ],
   "source": [
    "#run the test image through the network to get the test features\n",
    "saver = tf.train.Saver()\n",
    "with tf.Session() as sess:\n",
    "    sess.run(tf.global_variables_initializer())\n",
    "    ckpt = tf.train.get_checkpoint_state(\"model\")\n",
    "    saver.restore(sess, \"model/\" + model_name + \".ckpt\")\n",
    "    search_feat = sess.run(net, feed_dict={img_placeholder:dataset.images_test})\n",
    "    "
   ]
  },
  {
   "cell_type": "markdown",
   "metadata": {},
   "source": [
    "## Count similarity"
   ]
  },
  {
   "cell_type": "code",
   "execution_count": 55,
   "metadata": {},
   "outputs": [],
   "source": [
    "y_pred = []\n",
    "y_pred_t = []\n",
    "y_pred_w = []\n",
    "for idx,feat in enumerate(search_feat):\n",
    "    #calculate the cosine similarity and sort\n",
    "    y_pred.append(mt.siamese_predict(train_feat,feat,dataset))\n",
    "    y_pred_t.append(mt.treshold_predict(train_feat,feat,dataset,0.4,10,distance= 'euclidean'))\n",
    "    y_pred_w.append(mt.weighted_predict(train_feat,feat,dataset,0.4,10))\n",
    "    "
   ]
  },
  {
   "cell_type": "code",
   "execution_count": 56,
   "metadata": {},
   "outputs": [
    {
     "data": {
      "text/plain": [
       "0.7525773195876289"
      ]
     },
     "execution_count": 56,
     "metadata": {},
     "output_type": "execute_result"
    }
   ],
   "source": [
    "accuracy_score(dataset.labels_test,y_pred)"
   ]
  },
  {
   "cell_type": "code",
   "execution_count": 57,
   "metadata": {},
   "outputs": [
    {
     "data": {
      "text/plain": [
       "0.7525773195876289"
      ]
     },
     "execution_count": 57,
     "metadata": {},
     "output_type": "execute_result"
    }
   ],
   "source": [
    "accuracy_score(dataset.labels_test,y_pred_t)"
   ]
  },
  {
   "cell_type": "code",
   "execution_count": 58,
   "metadata": {},
   "outputs": [
    {
     "data": {
      "text/plain": [
       "0.5051546391752577"
      ]
     },
     "execution_count": 58,
     "metadata": {},
     "output_type": "execute_result"
    }
   ],
   "source": [
    "accuracy_score(dataset.labels_test,y_pred_w)"
   ]
  },
  {
   "cell_type": "code",
   "execution_count": 59,
   "metadata": {},
   "outputs": [
    {
     "data": {
      "text/plain": [
       "0.5839041095890412"
      ]
     },
     "execution_count": 59,
     "metadata": {},
     "output_type": "execute_result"
    }
   ],
   "source": [
    "fpr, tpr, thresholds = metrics.roc_curve(dataset.labels_test, y_pred, pos_label=1)\n",
    "metrics.auc(fpr, tpr)"
   ]
  },
  {
   "cell_type": "code",
   "execution_count": 60,
   "metadata": {},
   "outputs": [
    {
     "data": {
      "text/plain": [
       "0.6678082191780821"
      ]
     },
     "execution_count": 60,
     "metadata": {},
     "output_type": "execute_result"
    }
   ],
   "source": [
    "fpr, tpr, thresholds = metrics.roc_curve(dataset.labels_test, y_pred_t, pos_label=1)\n",
    "metrics.auc(fpr, tpr)"
   ]
  },
  {
   "cell_type": "code",
   "execution_count": 61,
   "metadata": {},
   "outputs": [
    {
     "data": {
      "text/plain": [
       "0.6292808219178082"
      ]
     },
     "execution_count": 61,
     "metadata": {},
     "output_type": "execute_result"
    }
   ],
   "source": [
    "fpr, tpr, thresholds = metrics.roc_curve(dataset.labels_test, y_pred_w, pos_label=1)\n",
    "metrics.auc(fpr, tpr)"
   ]
  },
  {
   "cell_type": "code",
   "execution_count": 45,
   "metadata": {},
   "outputs": [
    {
     "name": "stdout",
     "output_type": "stream",
     "text": [
      "              precision    recall  f1-score   support\n",
      "\n",
      "           0       0.81      0.85      0.83        73\n",
      "           1       0.45      0.38      0.41        24\n",
      "\n",
      "   micro avg       0.73      0.73      0.73        97\n",
      "   macro avg       0.63      0.61      0.62        97\n",
      "weighted avg       0.72      0.73      0.72        97\n",
      "\n"
     ]
    }
   ],
   "source": [
    "print(classification_report(dataset.labels_test,y_pred_t))"
   ]
  },
  {
   "cell_type": "code",
   "execution_count": 22,
   "metadata": {},
   "outputs": [],
   "source": [
    "from sklearn.ensemble import RandomForestClassifier \n",
    "rf = RandomForestClassifier(max_depth = 5)"
   ]
  },
  {
   "cell_type": "code",
   "execution_count": 23,
   "metadata": {},
   "outputs": [
    {
     "name": "stderr",
     "output_type": "stream",
     "text": [
      "/home/frantisek/anaconda3/envs/tf-gpu/lib/python3.6/site-packages/sklearn/ensemble/forest.py:246: FutureWarning: The default value of n_estimators will change from 10 in version 0.20 to 100 in 0.22.\n",
      "  \"10 in version 0.20 to 100 in 0.22.\", FutureWarning)\n"
     ]
    }
   ],
   "source": [
    "rf = rf.fit(train_feat,dataset.labels_train)"
   ]
  },
  {
   "cell_type": "code",
   "execution_count": 24,
   "metadata": {},
   "outputs": [],
   "source": [
    "pred = rf.predict(search_feat)"
   ]
  },
  {
   "cell_type": "code",
   "execution_count": 25,
   "metadata": {},
   "outputs": [
    {
     "name": "stdout",
     "output_type": "stream",
     "text": [
      "Accuracy:  0.7857142857142857\n"
     ]
    },
    {
     "data": {
      "text/plain": [
       "0.6731601731601732"
      ]
     },
     "execution_count": 25,
     "metadata": {},
     "output_type": "execute_result"
    }
   ],
   "source": [
    "print('Accuracy: ', accuracy_score(dataset.labels_test,pred))\n",
    "fpr, tpr, thresholds = metrics.roc_curve(dataset.labels_test, pred, pos_label=1)\n",
    "metrics.auc(fpr, tpr)"
   ]
  },
  {
   "cell_type": "code",
   "execution_count": 26,
   "metadata": {},
   "outputs": [
    {
     "data": {
      "text/plain": [
       "0.7857142857142857"
      ]
     },
     "execution_count": 26,
     "metadata": {},
     "output_type": "execute_result"
    }
   ],
   "source": [
    "accuracy_score(dataset.labels_test,pred)"
   ]
  },
  {
   "cell_type": "code",
   "execution_count": 27,
   "metadata": {},
   "outputs": [],
   "source": [
    "a = classification_report(dataset.labels_test,pred)"
   ]
  },
  {
   "cell_type": "code",
   "execution_count": 28,
   "metadata": {},
   "outputs": [
    {
     "name": "stdout",
     "output_type": "stream",
     "text": [
      "              precision    recall  f1-score   support\n",
      "\n",
      "           0       0.86      0.87      0.86        77\n",
      "           1       0.50      0.48      0.49        21\n",
      "\n",
      "   micro avg       0.79      0.79      0.79        98\n",
      "   macro avg       0.68      0.67      0.68        98\n",
      "weighted avg       0.78      0.79      0.78        98\n",
      "\n"
     ]
    }
   ],
   "source": [
    "print(a)"
   ]
  },
  {
   "cell_type": "code",
   "execution_count": 29,
   "metadata": {},
   "outputs": [
    {
     "name": "stderr",
     "output_type": "stream",
     "text": [
      "/home/frantisek/anaconda3/envs/tf-gpu/lib/python3.6/site-packages/matplotlib/figure.py:2366: UserWarning: This figure includes Axes that are not compatible with tight_layout, so results might be incorrect.\n",
      "  warnings.warn(\"This figure includes Axes that are not compatible \"\n"
     ]
    },
    {
     "data": {
      "image/png": "[encoded data removed]",
      "text/plain": [
       "<Figure size 1152x648 with 1 Axes>"
      ]
     },
     "metadata": {
      "needs_background": "light"
     },
     "output_type": "display_data"
    }
   ],
   "source": [
    "colors = ['#ff0000', '#ffff00', '#00ff00', '#00ffff', '#0000ff', '#ff00ff', '#990000', '#999900', '#009900', '#009999']\n",
    "feat = train_feat\n",
    "labels = dataset.labels_train[:10000]\n",
    "# plot result\n",
    "f = plt.figure(figsize=(16,9))\n",
    "f.set_tight_layout(True)\n",
    "for j in range(10):\n",
    "    plt.plot(feat[labels==j, 0].flatten(), feat[labels==j, 1].flatten(), '.', c=colors[j], alpha=0.8)\n",
    "    plt.legend(['0', '1', '2', '3', '4', '5', '6', '7', '8', '9'])\n",
    "   "
   ]
  },
  {
   "cell_type": "code",
   "execution_count": 41,
   "metadata": {},
   "outputs": [
    {
     "data": {
      "text/plain": [
       "<matplotlib.image.AxesImage at 0x7fecced2dc50>"
      ]
     },
     "execution_count": 41,
     "metadata": {},
     "output_type": "execute_result"
    },
    {
     "data": {
      "image/png": "[encoded data removed]",
      "text/plain": [
       "<Figure size 432x288 with 1 Axes>"
      ]
     },
     "metadata": {
      "needs_background": "light"
     },
     "output_type": "display_data"
    }
   ],
   "source": [
    "plt.imshow(dataset.images_train[5,:,:,0],cmap = 'gray')"
   ]
  },
  {
   "cell_type": "code",
   "execution_count": 44,
   "metadata": {},
   "outputs": [],
   "source": [
    "idxs = [5]\n",
    "if type(idxs) != np.ndarray:\n",
    "        idxs = np.array([idxs])"
   ]
  },
  {
   "cell_type": "code",
   "execution_count": 45,
   "metadata": {},
   "outputs": [
    {
     "data": {
      "text/plain": [
       "array([[5]])"
      ]
     },
     "execution_count": 45,
     "metadata": {},
     "output_type": "execute_result"
    }
   ],
   "source": [
    "idxs"
   ]
  },
  {
   "cell_type": "code",
   "execution_count": 48,
   "metadata": {},
   "outputs": [
    {
     "data": {
      "image/png": "[encoded data removed]",
      "text/plain": [
       "<Figure size 1296x720 with 7 Axes>"
      ]
     },
     "metadata": {
      "needs_background": "light"
     },
     "output_type": "display_data"
    }
   ],
   "source": [
    "show_image(np.array([5,8,10,45,9,55,4]),dataset.images_train)"
   ]
  },
  {
   "cell_type": "code",
   "execution_count": null,
   "metadata": {},
   "outputs": [],
   "source": []
  }
 ],
 "metadata": {
  "kernelspec": {
   "display_name": "TensorFlow-GPU",
   "language": "python",
   "name": "tf-gpu"
  },
  "language_info": {
   "codemirror_mode": {
    "name": "ipython",
    "version": 3
   },
   "file_extension": ".py",
   "mimetype": "text/x-python",
   "name": "python",
   "nbconvert_exporter": "python",
   "pygments_lexer": "ipython3",
   "version": "3.6.8"
  }
 },
 "nbformat": 4,
 "nbformat_minor": 2
}
