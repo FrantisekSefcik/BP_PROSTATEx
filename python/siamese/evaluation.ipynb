{
 "cells": [
  {
   "cell_type": "code",
   "execution_count": 1,
   "metadata": {},
   "outputs": [],
   "source": [
    "#%matplotlib inline\n",
    "import tensorflow as tf\n",
    "import numpy as np\n",
    "#import matplotlib.pyplot as plt\n",
    "from dataset import Dataset\n",
    "from dataset import DataLoader\n",
    "from model import *\n",
    "\n",
    "from scipy.spatial.distance import cdist\n",
    "from matplotlib import gridspec\n",
    "\n",
    "from sklearn.model_selection import train_test_split\n",
    "import matplotlib.pyplot as plt\n",
    "from sklearn.metrics import accuracy_score\n",
    "from functools import reduce"
   ]
  },
  {
   "cell_type": "code",
   "execution_count": 2,
   "metadata": {},
   "outputs": [],
   "source": [
    "loader = DataLoader('../../data/',['t2tsetra/t/40x40x1/'])\n",
    "loader.load_data()\n",
    "X,y = loader.get_data('t2tsetra/t/40x40x1/')\n",
    "X_train, X_test, y_train, y_test = train_test_split(X, y, test_size=0.33, random_state=42)"
   ]
  },
  {
   "cell_type": "code",
   "execution_count": 3,
   "metadata": {},
   "outputs": [],
   "source": [
    "(X_train,y_train),(X_test,y_test) = tf.keras.datasets.fashion_mnist.load_data()\n",
    "X_train = X_train.reshape(-1,28,28,1)\n",
    "X_test = X_test.reshape(-1,28,28,1)\n",
    "X_train = X_train / 255\n",
    "X_test = X_test / 255\n"
   ]
  },
  {
   "cell_type": "code",
   "execution_count": 4,
   "metadata": {},
   "outputs": [],
   "source": [
    "dataset = Dataset()"
   ]
  },
  {
   "cell_type": "code",
   "execution_count": 5,
   "metadata": {},
   "outputs": [],
   "source": [
    "dataset.images_train = X_train\n",
    "dataset.images_test = X_test\n",
    "dataset.labels_train = y_train\n",
    "dataset.labels_test = y_test\n"
   ]
  },
  {
   "cell_type": "code",
   "execution_count": 6,
   "metadata": {},
   "outputs": [],
   "source": [
    "#helper function to plot image\n",
    "def show_image(idxs, data):\n",
    "    if type(idxs) != np.ndarray:\n",
    "        idxs = np.array([idxs])\n",
    "    fig = plt.figure(figsize = (18,10))\n",
    "    gs = gridspec.GridSpec(1,len(idxs))\n",
    "    for i in range(len(idxs)):\n",
    "        ax = fig.add_subplot(gs[0,i])\n",
    "        ax.imshow(data[idxs[i],:,:,0],cmap = 'gray')\n",
    "        ax.axis('off')\n",
    "    plt.show()"
   ]
  },
  {
   "cell_type": "markdown",
   "metadata": {},
   "source": [
    "## Create the siamese net feature extraction model"
   ]
  },
  {
   "cell_type": "code",
   "execution_count": 7,
   "metadata": {},
   "outputs": [],
   "source": [
    "img_placeholder = tf.placeholder(tf.float32, [None] + list(dataset.images_train.shape[1:]), name='img')\n",
    "net = mnist_model(img_placeholder, reuse=False)"
   ]
  },
  {
   "cell_type": "markdown",
   "metadata": {},
   "source": [
    "## Restore from checkpoint and calc the features from all of train data"
   ]
  },
  {
   "cell_type": "code",
   "execution_count": 7,
   "metadata": {},
   "outputs": [
    {
     "name": "stdout",
     "output_type": "stream",
     "text": [
      "INFO:tensorflow:Restoring parameters from model/model.ckpt\n"
     ]
    }
   ],
   "source": [
    "#run the train image through the network to get the test features\n",
    "saver = tf.train.Saver()\n",
    "with tf.Session() as sess:\n",
    "    sess.run(tf.global_variables_initializer())\n",
    "    ckpt = tf.train.get_checkpoint_state(\"model\")\n",
    "    saver.restore(sess, \"model/model.ckpt\")\n",
    "    train_feat = sess.run(net, feed_dict={img_placeholder:dataset.images_train})"
   ]
  },
  {
   "cell_type": "code",
   "execution_count": 8,
   "metadata": {
    "scrolled": true
   },
   "outputs": [
    {
     "name": "stdout",
     "output_type": "stream",
     "text": [
      "INFO:tensorflow:Restoring parameters from model/model.ckpt\n"
     ]
    }
   ],
   "source": [
    "#run the test image through the network to get the test features\n",
    "saver = tf.train.Saver()\n",
    "with tf.Session() as sess:\n",
    "    sess.run(tf.global_variables_initializer())\n",
    "    ckpt = tf.train.get_checkpoint_state(\"model\")\n",
    "    saver.restore(sess, \"model/model.ckpt\")\n",
    "    search_feat = sess.run(net, feed_dict={img_placeholder:dataset.images_test})\n",
    "    "
   ]
  },
  {
   "cell_type": "markdown",
   "metadata": {},
   "source": [
    "## Count similarity"
   ]
  },
  {
   "cell_type": "code",
   "execution_count": 31,
   "metadata": {},
   "outputs": [
    {
     "name": "stdout",
     "output_type": "stream",
     "text": [
      "0\n",
      "(array([0, 0, 0, 0, 0, 1, 0, 1, 0, 0]), {0: 80.0, 1: 20.0})\n",
      "0\n",
      "(array([1, 0, 1, 1, 0, 1, 0, 1, 0, 0]), {1: 50.0, 0: 50.0})\n",
      "0\n",
      "(array([0, 1, 0, 1, 0, 0, 1, 1, 0, 1]), {0: 50.0, 1: 50.0})\n",
      "0\n",
      "(array([0, 0, 0, 0, 0, 0, 0, 0, 0, 0]), {0: 100.0})\n",
      "0\n",
      "(array([0, 1, 0, 1, 0, 1, 0, 1, 1, 0]), {0: 50.0, 1: 50.0})\n",
      "0\n",
      "(array([1, 1, 0, 0, 0, 0, 1, 0, 0, 0]), {1: 30.0, 0: 70.0})\n",
      "1\n",
      "(array([0, 0, 0, 0, 0, 0, 0, 0, 0, 0]), {0: 100.0})\n",
      "0\n",
      "(array([0, 0, 0, 1, 0, 0, 0, 0, 0, 0]), {0: 90.0, 1: 10.0})\n",
      "0\n",
      "(array([1, 0, 0, 1, 0, 0, 1, 1, 1, 0]), {1: 50.0, 0: 50.0})\n",
      "0\n",
      "(array([0, 0, 1, 1, 0, 1, 0, 1, 0, 1]), {0: 50.0, 1: 50.0})\n",
      "1\n",
      "(array([0, 0, 0, 0, 0, 1, 0, 0, 0, 0]), {0: 90.0, 1: 10.0})\n",
      "0\n",
      "(array([0, 0, 0, 0, 0, 0, 0, 0, 0, 1]), {0: 90.0, 1: 10.0})\n",
      "1\n",
      "(array([0, 0, 0, 0, 1, 0, 0, 0, 0, 0]), {0: 90.0, 1: 10.0})\n",
      "0\n",
      "(array([0, 0, 0, 0, 1, 0, 0, 0, 0, 0]), {0: 90.0, 1: 10.0})\n",
      "1\n",
      "(array([1, 0, 0, 0, 1, 1, 0, 0, 0, 0]), {1: 30.0, 0: 70.0})\n",
      "0\n",
      "(array([0, 0, 0, 0, 0, 0, 0, 0, 1, 0]), {0: 90.0, 1: 10.0})\n",
      "0\n",
      "(array([0, 1, 0, 0, 1, 1, 1, 1, 1, 0]), {0: 40.0, 1: 60.0})\n",
      "0\n",
      "(array([0, 0, 0, 1, 0, 1, 0, 0, 1, 0]), {0: 70.0, 1: 30.0})\n",
      "1\n",
      "(array([0, 0, 0, 0, 0, 1, 0, 0, 0, 0]), {0: 90.0, 1: 10.0})\n",
      "0\n",
      "(array([0, 1, 0, 0, 0, 1, 0, 1, 0, 0]), {0: 70.0, 1: 30.0})\n",
      "0\n",
      "(array([0, 1, 0, 0, 0, 0, 0, 1, 0, 1]), {0: 70.0, 1: 30.0})\n",
      "1\n",
      "(array([0, 1, 0, 1, 0, 0, 0, 0, 0, 0]), {0: 80.0, 1: 20.0})\n",
      "0\n",
      "(array([0, 0, 0, 0, 0, 0, 1, 0, 0, 1]), {0: 80.0, 1: 20.0})\n",
      "0\n",
      "(array([0, 1, 0, 0, 0, 0, 1, 0, 0, 0]), {0: 80.0, 1: 20.0})\n",
      "0\n",
      "(array([0, 0, 0, 0, 0, 0, 0, 1, 0, 0]), {0: 90.0, 1: 10.0})\n",
      "1\n",
      "(array([0, 1, 0, 1, 1, 1, 1, 1, 1, 1]), {0: 20.0, 1: 80.0})\n",
      "0\n",
      "(array([0, 0, 0, 1, 0, 0, 0, 0, 0, 1]), {0: 80.0, 1: 20.0})\n",
      "0\n",
      "(array([0, 0, 1, 1, 0, 1, 0, 0, 0, 0]), {0: 70.0, 1: 30.0})\n",
      "0\n",
      "(array([1, 0, 0, 1, 0, 0, 1, 0, 0, 0]), {1: 30.0, 0: 70.0})\n",
      "0\n",
      "(array([1, 0, 1, 0, 0, 0, 1, 0, 1, 0]), {1: 40.0, 0: 60.0})\n"
     ]
    }
   ],
   "source": [
    "y_pred = []\n",
    "for idx,feat in enumerate(train_feat[:30]):\n",
    "    #calculate the cosine similarity and sort\n",
    "    print(dataset.labels_test[idx])\n",
    "    print(siamese_accuracy(train_feat,feat,dataset))\n",
    "    "
   ]
  },
  {
   "cell_type": "code",
   "execution_count": 10,
   "metadata": {},
   "outputs": [
    {
     "data": {
      "image/png": "[encoded data removed]",
      "text/plain": [
       "<Figure size 1296x720 with 10 Axes>"
      ]
     },
     "metadata": {
      "needs_background": "light"
     },
     "output_type": "display_data"
    }
   ],
   "source": [
    "show_image(rank[:10], dataset.images_train)"
   ]
  },
  {
   "cell_type": "code",
   "execution_count": 11,
   "metadata": {},
   "outputs": [
    {
     "data": {
      "text/plain": [
       "array([0, 0, 0, 1, 0, 0, 0, 1, 0, 0])"
      ]
     },
     "execution_count": 11,
     "metadata": {},
     "output_type": "execute_result"
    }
   ],
   "source": [
    "dataset.labels_train[rank[:10]]"
   ]
  },
  {
   "cell_type": "code",
   "execution_count": 13,
   "metadata": {},
   "outputs": [
    {
     "data": {
      "text/plain": [
       "0"
      ]
     },
     "execution_count": 13,
     "metadata": {},
     "output_type": "execute_result"
    }
   ],
   "source": [
    "dataset.labels_test[-1]"
   ]
  },
  {
   "cell_type": "code",
   "execution_count": 29,
   "metadata": {},
   "outputs": [],
   "source": [
    "def siamese_accuracy(train_feat, search_feat, dataset):\n",
    "    n = 10\n",
    "    dist = cdist(train_feat, [feat], 'cosine')\n",
    "    rank = np.argsort(dist.ravel())\n",
    "    \n",
    "    labels = dataset.labels_train[rank[:n]]\n",
    "    c = Counter(labels) \n",
    "    return labels,dict([(i, c[i] / len(labels) * 100.0) for i in c])\n",
    "    "
   ]
  },
  {
   "cell_type": "code",
   "execution_count": 16,
   "metadata": {},
   "outputs": [
    {
     "data": {
      "text/plain": [
       "[(1, 14.285714285714285),\n",
       " (2, 35.714285714285715),\n",
       " (3, 7.142857142857142),\n",
       " (4, 7.142857142857142),\n",
       " (10, 35.714285714285715)]"
      ]
     },
     "execution_count": 16,
     "metadata": {},
     "output_type": "execute_result"
    }
   ],
   "source": [
    "from collections import Counter\n",
    "l = [1, 1, 2, 2, 2, 2, 2, 3, 4, 10, 10, 10, 10, 10]\n",
    "c = Counter(l)\n",
    "[(i, c[i] / len(l) * 100.0) for i in c]"
   ]
  },
  {
   "cell_type": "code",
   "execution_count": 56,
   "metadata": {},
   "outputs": [],
   "source": [
    "(X_train,y_train),(X_test,y_test) = tf.keras.datasets.fashion_mnist.load_data()\n"
   ]
  },
  {
   "cell_type": "code",
   "execution_count": 57,
   "metadata": {},
   "outputs": [],
   "source": [
    "dataset = Dataset()"
   ]
  },
  {
   "cell_type": "code",
   "execution_count": 58,
   "metadata": {},
   "outputs": [],
   "source": [
    "dataset.images_train = X_train\n",
    "dataset.images_test = X_test\n",
    "dataset.labels_train = y_train\n",
    "dataset.labels_test = y_test"
   ]
  },
  {
   "cell_type": "code",
   "execution_count": 72,
   "metadata": {},
   "outputs": [],
   "source": [
    "a,b,c = dataset.get_siamese_batch(4)"
   ]
  },
  {
   "cell_type": "code",
   "execution_count": 73,
   "metadata": {},
   "outputs": [
    {
     "data": {
      "text/plain": [
       "4"
      ]
     },
     "execution_count": 73,
     "metadata": {},
     "output_type": "execute_result"
    }
   ],
   "source": [
    "len(a)"
   ]
  },
  {
   "cell_type": "code",
   "execution_count": 74,
   "metadata": {},
   "outputs": [
    {
     "data": {
      "text/plain": [
       "<matplotlib.image.AxesImage at 0x7fc37c4d2320>"
      ]
     },
     "execution_count": 74,
     "metadata": {},
     "output_type": "execute_result"
    },
    {
     "data": {
      "image/png": "[encoded data removed]",
      "text/plain": [
       "<Figure size 432x288 with 1 Axes>"
      ]
     },
     "metadata": {
      "needs_background": "light"
     },
     "output_type": "display_data"
    }
   ],
   "source": [
    "plt.imshow(a[0])"
   ]
  },
  {
   "cell_type": "code",
   "execution_count": 75,
   "metadata": {},
   "outputs": [
    {
     "data": {
      "text/plain": [
       "<matplotlib.image.AxesImage at 0x7fc37c426eb8>"
      ]
     },
     "execution_count": 75,
     "metadata": {},
     "output_type": "execute_result"
    },
    {
     "data": {
      "image/png": "[encoded data removed]",
      "text/plain": [
       "<Figure size 432x288 with 1 Axes>"
      ]
     },
     "metadata": {
      "needs_background": "light"
     },
     "output_type": "display_data"
    }
   ],
   "source": [
    "plt.imshow(b[0])"
   ]
  },
  {
   "cell_type": "code",
   "execution_count": 77,
   "metadata": {},
   "outputs": [
    {
     "data": {
      "text/plain": [
       "0"
      ]
     },
     "execution_count": 77,
     "metadata": {},
     "output_type": "execute_result"
    }
   ],
   "source": [
    "c[0][0]"
   ]
  },
  {
   "cell_type": "code",
   "execution_count": null,
   "metadata": {},
   "outputs": [],
   "source": []
  }
 ],
 "metadata": {
  "kernelspec": {
   "display_name": "TensorFlow-GPU",
   "language": "python",
   "name": "tf-gpu"
  },
  "language_info": {
   "codemirror_mode": {
    "name": "ipython",
    "version": 3
   },
   "file_extension": ".py",
   "mimetype": "text/x-python",
   "name": "python",
   "nbconvert_exporter": "python",
   "pygments_lexer": "ipython3",
   "version": "3.6.8"
  }
 },
 "nbformat": 4,
 "nbformat_minor": 2
}
