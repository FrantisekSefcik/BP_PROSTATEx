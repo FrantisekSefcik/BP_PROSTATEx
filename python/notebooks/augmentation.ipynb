{
 "cells": [
  {
   "cell_type": "markdown",
   "metadata": {},
   "source": [
    "# Notebook to present augmentation "
   ]
  },
  {
   "cell_type": "code",
   "execution_count": 1,
   "metadata": {},
   "outputs": [],
   "source": [
    "import Augmentor\n",
    "from siamese.dataset import DataLoader\n",
    "from siamese.dataset import Dataset\n",
    "from extensies import augmentation as aug\n",
    "import matplotlib.pyplot as plt\n",
    "import numpy as np\n",
    "import matplotlib.pyplot as plt\n",
    "import matplotlib.gridspec as gridspec\n",
    "import skimage.feature as ft\n",
    "import albumentations\n",
    "import tensorflow as tf\n",
    "from imgaug import augmenters as iaa\n",
    "from sklearn.model_selection import KFold"
   ]
  },
  {
   "cell_type": "markdown",
   "metadata": {},
   "source": [
    "## Load data"
   ]
  },
  {
   "cell_type": "code",
   "execution_count": 11,
   "metadata": {},
   "outputs": [
    {
     "data": {
      "text/plain": [
       "207"
      ]
     },
     "execution_count": 11,
     "metadata": {},
     "output_type": "execute_result"
    }
   ],
   "source": [
    "modalities = ['adc/t/40x40x1']\n",
    "if len(modalities) > 1:\n",
    "    loader = DataLoader('../../data/',modalities)\n",
    "    loader.load_data()\n",
    "    loader.combine_channels(modalities)\n",
    "    X_train, X_test, y_train, y_test = loader.get_train_test('combined')\n",
    "\n",
    "else:\n",
    "    loader = DataLoader('../../data/',modalities)\n",
    "    loader.load_data()\n",
    "    X_train, X_test, y_train, y_test = loader.get_train_test(modalities[0])\n",
    "len(X_train)"
   ]
  },
  {
   "cell_type": "code",
   "execution_count": 12,
   "metadata": {},
   "outputs": [
    {
     "data": {
      "text/plain": [
       "(207, 40, 40, 1)"
      ]
     },
     "execution_count": 12,
     "metadata": {},
     "output_type": "execute_result"
    }
   ],
   "source": [
    "X_train.shape"
   ]
  },
  {
   "cell_type": "code",
   "execution_count": 13,
   "metadata": {},
   "outputs": [
    {
     "data": {
      "text/plain": [
       "<matplotlib.image.AxesImage at 0x7f0899cf9898>"
      ]
     },
     "execution_count": 13,
     "metadata": {},
     "output_type": "execute_result"
    },
    {
     "data": {
      "image/png": "[encoded data removed]",
      "text/plain": [
       "<Figure size 432x288 with 1 Axes>"
      ]
     },
     "metadata": {
      "needs_background": "light"
     },
     "output_type": "display_data"
    }
   ],
   "source": [
    "plt.imshow(X_train[0,:,:,0],cmap = 'gray')"
   ]
  },
  {
   "cell_type": "markdown",
   "metadata": {},
   "source": [
    "## Dataset object with added augmentation to output"
   ]
  },
  {
   "cell_type": "code",
   "execution_count": 5,
   "metadata": {},
   "outputs": [],
   "source": [
    "dataset = Dataset()\n",
    "dataset.images_train = X_train\n",
    "dataset.images_test = X_test\n",
    "dataset.labels_train = y_train\n",
    "dataset.labels_test = y_test"
   ]
  },
  {
   "cell_type": "code",
   "execution_count": 6,
   "metadata": {},
   "outputs": [
    {
     "name": "stdout",
     "output_type": "stream",
     "text": [
      "Shapes:  (4, 40, 40, 1) (4, 40, 40, 1) (4, 1)\n"
     ]
    }
   ],
   "source": [
    "augs = aug.ClassicAugmentor(X_train)\n",
    "x,y,z = dataset.get_siamese_batch(4,augmentor = augs)\n",
    "print('Shapes: ',x.shape,y.shape,z.shape)"
   ]
  },
  {
   "cell_type": "markdown",
   "metadata": {},
   "source": [
    "# 1. own augmentation classes"
   ]
  },
  {
   "cell_type": "code",
   "execution_count": 7,
   "metadata": {},
   "outputs": [],
   "source": [
    "augmentor = aug.Elastic2Augmentor(X_train)\n",
    "X,y = augmentor.generate_images(X_train[:100],y_train[:100],1000)"
   ]
  },
  {
   "cell_type": "code",
   "execution_count": 12,
   "metadata": {},
   "outputs": [
    {
     "data": {
      "text/plain": [
       "<matplotlib.image.AxesImage at 0x7f123e2e2da0>"
      ]
     },
     "execution_count": 12,
     "metadata": {},
     "output_type": "execute_result"
    },
    {
     "data": {
      "image/png": "[encoded data removed]",
      "text/plain": [
       "<Figure size 432x288 with 1 Axes>"
      ]
     },
     "metadata": {
      "needs_background": "light"
     },
     "output_type": "display_data"
    }
   ],
   "source": [
    "plt.imshow(X[9,:,:,0],cmap = 'gray')"
   ]
  },
  {
   "cell_type": "markdown",
   "metadata": {},
   "source": [
    "# 2. Albumentations\n",
    "\n",
    "Augmentation with Albumentations library https://github.com/albu/albumentations"
   ]
  },
  {
   "cell_type": "code",
   "execution_count": 16,
   "metadata": {},
   "outputs": [
    {
     "data": {
      "text/plain": [
       "<matplotlib.image.AxesImage at 0x7f123e15e0f0>"
      ]
     },
     "execution_count": 16,
     "metadata": {},
     "output_type": "execute_result"
    },
    {
     "data": {
      "image/png": "[encoded data removed]",
      "text/plain": [
       "<Figure size 432x288 with 1 Axes>"
      ]
     },
     "metadata": {
      "needs_background": "light"
     },
     "output_type": "display_data"
    }
   ],
   "source": [
    "# aug = albumentations.ShiftScaleRotate(shift_limit=0.0625, scale_limit=0, rotate_limit=20, p=1)\n",
    "# aug = albumentations.HorizontalFlip(p=1)\n",
    "# aug = albumentations.ShiftScaleRotate(p=1)\n",
    "aug = albumentations.Compose([\n",
    "#         albumentations.HorizontalFlip(p=0.5),\n",
    "#         albumentations.RandomRotate90(p = 1),\n",
    "#         albumentations.Rotate(p = 1),\n",
    "#         albumentations.ShiftScaleRotate(shift_limit=0, scale_limit=0.1, rotate_limit=20, p=1)\n",
    "    albumentations.augmentations.transforms.ElasticTransform(alpha=1, sigma=20, alpha_affine=3, \n",
    "                                                             interpolation=1, border_mode=4, \n",
    "                                                             always_apply=False, approximate=False, p=1)\n",
    "    ], p=1)\n",
    "image = aug(image=X_train[0])['image']\n",
    "plt.imshow(image[:,:,0],cmap = 'gray')"
   ]
  },
  {
   "cell_type": "code",
   "execution_count": 17,
   "metadata": {},
   "outputs": [
    {
     "data": {
      "text/plain": [
       "<matplotlib.image.AxesImage at 0x7f123e12be48>"
      ]
     },
     "execution_count": 17,
     "metadata": {},
     "output_type": "execute_result"
    },
    {
     "data": {
      "image/png": "[encoded data removed]",
      "text/plain": [
       "<Figure size 432x288 with 1 Axes>"
      ]
     },
     "metadata": {
      "needs_background": "light"
     },
     "output_type": "display_data"
    }
   ],
   "source": [
    "plt.imshow(X_train[0,:,:,0],cmap = 'gray')"
   ]
  },
  {
   "cell_type": "markdown",
   "metadata": {},
   "source": [
    "# 3. imgaug\n",
    "\n",
    "Augmentation with imgaug library\n",
    "https://github.com/aleju/imgaug"
   ]
  },
  {
   "cell_type": "code",
   "execution_count": 22,
   "metadata": {},
   "outputs": [],
   "source": [
    "seg = iaa.Sequential([\n",
    "   iaa.ElasticTransformation(sigma=8,alpha = 20),\n",
    "#     iaa.PiecewiseAffine(scale = 0.05,nb_rows=4, nb_cols=4,mode=\"symetric\"),\n",
    "])\n",
    "\n",
    "X = seg.augment_image(X_train[0])"
   ]
  },
  {
   "cell_type": "code",
   "execution_count": 23,
   "metadata": {},
   "outputs": [
    {
     "data": {
      "text/plain": [
       "<matplotlib.image.AxesImage at 0x7f123e8c0e48>"
      ]
     },
     "execution_count": 23,
     "metadata": {},
     "output_type": "execute_result"
    },
    {
     "data": {
      "image/png": "[encoded data removed]",
      "text/plain": [
       "<Figure size 432x288 with 1 Axes>"
      ]
     },
     "metadata": {
      "needs_background": "light"
     },
     "output_type": "display_data"
    }
   ],
   "source": [
    "plt.imshow(X[:,:,0],cmap = 'gray')"
   ]
  },
  {
   "cell_type": "code",
   "execution_count": 25,
   "metadata": {},
   "outputs": [
    {
     "data": {
      "text/plain": [
       "<matplotlib.image.AxesImage at 0x7f123e89e588>"
      ]
     },
     "execution_count": 25,
     "metadata": {},
     "output_type": "execute_result"
    },
    {
     "data": {
      "image/png": "[encoded data removed]",
      "text/plain": [
       "<Figure size 432x288 with 1 Axes>"
      ]
     },
     "metadata": {
      "needs_background": "light"
     },
     "output_type": "display_data"
    }
   ],
   "source": [
    "plt.imshow(X_train[0,:,:,0],cmap = 'gray')"
   ]
  },
  {
   "cell_type": "code",
   "execution_count": 28,
   "metadata": {},
   "outputs": [
    {
     "data": {
      "text/plain": [
       "Text(0.5, 1.0, 'Histogram with augmented image')"
      ]
     },
     "execution_count": 28,
     "metadata": {},
     "output_type": "execute_result"
    },
    {
     "data": {
      "image/png": "[encoded data removed]",
      "text/plain": [
       "<Figure size 1224x720 with 2 Axes>"
      ]
     },
     "metadata": {
      "needs_background": "light"
     },
     "output_type": "display_data"
    }
   ],
   "source": [
    "fig = plt.figure(figsize = (17,10))\n",
    "spec2 = gridspec.GridSpec(ncols=2, nrows=1, figure=fig)\n",
    "\n",
    "f2_ax1 = fig.add_subplot(spec2[0, 0])\n",
    "f2_ax2 = fig.add_subplot(spec2[0, 1])\n",
    "\n",
    "f2_ax1.hist(X_train[0].flatten(),bins = 100)\n",
    "f2_ax1.set_title(\"Histogram with not augmented image\")\n",
    "\n",
    "f2_ax2.hist(X.flatten(),bins = 100)\n",
    "f2_ax2.set_title(\"Histogram with augmented image\")"
   ]
  },
  {
   "cell_type": "code",
   "execution_count": null,
   "metadata": {},
   "outputs": [],
   "source": []
  }
 ],
 "metadata": {
  "kernelspec": {
   "display_name": "TensorFlow-GPU",
   "language": "python",
   "name": "tf-gpu"
  },
  "language_info": {
   "codemirror_mode": {
    "name": "ipython",
    "version": 3
   },
   "file_extension": ".py",
   "mimetype": "text/x-python",
   "name": "python",
   "nbconvert_exporter": "python",
   "pygments_lexer": "ipython3",
   "version": "3.6.8"
  }
 },
 "nbformat": 4,
 "nbformat_minor": 2
}
