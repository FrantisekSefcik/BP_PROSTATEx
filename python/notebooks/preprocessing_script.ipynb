{
 "cells": [
  {
   "cell_type": "code",
   "execution_count": 1,
   "metadata": {},
   "outputs": [],
   "source": [
    "import SimpleITK as sitk\n",
    "# from downloaddata import fetch_data as fdata\n",
    "from extensies import preprocessing as my\n",
    "from extensies import normalization\n",
    "\n",
    "import pandas as pd\n",
    "import matplotlib.pyplot as plt\n",
    "import numpy as np\n",
    "import os"
   ]
  },
  {
   "cell_type": "markdown",
   "metadata": {},
   "source": [
    "### Load findings and informations about images"
   ]
  },
  {
   "cell_type": "code",
   "execution_count": 2,
   "metadata": {},
   "outputs": [],
   "source": [
    "df_images = pd.read_csv('../../data/info/ProstateX-Images-Train.csv')\n",
    "df_findings = pd.read_csv('../../data/info/ProstateX-Findings-Train.csv')\n",
    "df_ktrans = pd.read_csv('../../data/info/ProstateX-Images-KTrans-Train.csv')"
   ]
  },
  {
   "cell_type": "code",
   "execution_count": 18,
   "metadata": {},
   "outputs": [
    {
     "name": "stdout",
     "output_type": "stream",
     "text": [
      "0\n",
      "(20, 20)\n",
      "1\n",
      "(20, 20)\n",
      "2\n",
      "(20, 20)\n",
      "3\n",
      "(20, 20)\n",
      "4\n",
      "(20, 20)\n",
      "6\n",
      "(20, 20)\n",
      "7\n",
      "(20, 20)\n",
      "8\n",
      "(20, 20)\n",
      "9\n",
      "(20, 20)\n",
      "10\n",
      "(20, 20)\n",
      "11\n",
      "(20, 20)\n",
      "12\n",
      "(20, 20)\n",
      "13\n",
      "(20, 20)\n",
      "14\n",
      "(20, 20)\n",
      "15\n",
      "(20, 20)\n",
      "16\n",
      "(20, 20)\n",
      "17\n",
      "(20, 20)\n",
      "18\n",
      "(20, 20)\n",
      "19\n",
      "(20, 20)\n",
      "20\n",
      "(20, 20)\n",
      "21\n",
      "(20, 20)\n",
      "22\n",
      "(20, 20)\n",
      "23\n",
      "(20, 20)\n",
      "24\n",
      "(20, 20)\n",
      "25\n",
      "(20, 20)\n",
      "26\n",
      "(20, 20)\n",
      "27\n",
      "(20, 20)\n",
      "28\n",
      "(20, 20)\n",
      "29\n",
      "(20, 20)\n",
      "30\n",
      "(20, 20)\n"
     ]
    }
   ],
   "source": [
    "root_path = '../../data/PROSTATEx'\n",
    "path_to_data = '../../data/'\n",
    "modality = 'ktrans'\n",
    "new_spacing = (1,1,1)\n",
    "orientation = 's'\n",
    "patch_size = (20,20,1)\n",
    "images = []\n",
    "\n",
    "\n",
    "target_path = os.path.join(path_to_data,modality,orientation, \n",
    "                            str(patch_size[0]) + 'x' + str(patch_size[1]) + 'x' + str(patch_size[2]))\n",
    "\n",
    "# x = 1.5\n",
    "# offsets = [[0,0,0],[-x,x,x],[x,x,x],[-x,-x,x],[x,-x,x],\n",
    "#             [-x,x,0],[x,x,0],[-x,-x,0],[x,-x,0],[-x,x,-x],[x,x,-x],[-x,-x,-x],[x,-x,-x]]\n",
    "offsets = [[0,0,0]]\n",
    "\n",
    "\n",
    "\n",
    "new_df = pd.DataFrame(columns = ['ProxID','fid','zone','ClinSig','name'])\n",
    "roi_volumes = []\n",
    "# findings = df_findings.drop(df_findings.index[[33,34,35,36,37,154,84,110,131,145,176,179,215,230,264,265,268,275,292,304]])\n",
    "# findings = df_findings.drop(df_findings.index[[33,34,35,36,37,154,44,45,84,110,131,145,176,179,215,230,264,265,268,275,292,304]])\n",
    "findings = df_findings.drop(df_findings.index[[33,34,35,36,37,154,5,44,45,46,64,\n",
    "                                               81,84,87,110,114,131,145,162,176,179,190,193,215,230,246,264,265,268,275,292,304,325]])\n",
    "findings = findings[findings['zone'] != 'SV']\n",
    "\n",
    "# iterate throught all findings\n",
    "index = 0\n",
    "for idx,row in findings[:30].iterrows():\n",
    "    print(idx)\n",
    "\n",
    "    if modality == 'ktrans':\n",
    "        path_to_image = my.get_ktrans_path(row['ProxID'],path_to_data)\n",
    "        image = sitk.ReadImage(path_to_image)\n",
    "    else:\n",
    "        path_to_image = my.get_path(row['ProxID'], modality, root_path)\n",
    "        fixed_series_filenames = sitk.ImageSeriesReader_GetGDCMSeriesFileNames(path_to_image)\n",
    "        image = sitk.ReadImage(fixed_series_filenames)\n",
    "\n",
    "    # fit normalizer\n",
    "    normalizer = normalization.ScaleNormalization()\n",
    "    normalizer.fit(sitk.GetArrayFromImage(image))\n",
    "    # resample image to same spacing in all directions\n",
    "    image = my.resample_image_to_spacing(image, new_spacing, sitk.sitkLinear)\n",
    "    # extract region of interest\n",
    "    center = [float(x) for x in row['pos'].split()] \n",
    "    for i,offset in enumerate(offsets):\n",
    "        volume  = my.get_patch_from_image(image, patch_size, center, orientation)\n",
    "        # normalise data\n",
    "        volume = normalizer.normalise(volume)\n",
    "\n",
    "        #save image\n",
    "        file_name = row['ProxID']+'_'+str(index)+'_'+row['zone']+'.nii'\n",
    "        new_df.loc[index] = row[['ProxID','fid','zone','ClinSig']]\n",
    "        new_df.loc[index,'name'] = file_name\n",
    "        new_df.loc[index,'ID'] = idx\n",
    "        new_df.loc[index,'normalization'] = normalizer.name\n",
    "        print(volume.shape)\n",
    "        images.append(volume)\n",
    "\n",
    "        index += 1\n",
    "\n",
    "# new_df.to_csv(os.path.join(target_path,'info.csv'))"
   ]
  },
  {
   "cell_type": "code",
   "execution_count": 4,
   "metadata": {},
   "outputs": [],
   "source": [
    "images = np.array(images)"
   ]
  },
  {
   "cell_type": "code",
   "execution_count": 8,
   "metadata": {},
   "outputs": [
    {
     "data": {
      "text/plain": [
       "(296,)"
      ]
     },
     "execution_count": 8,
     "metadata": {},
     "output_type": "execute_result"
    }
   ],
   "source": [
    "images.shape"
   ]
  },
  {
   "cell_type": "code",
   "execution_count": 68,
   "metadata": {},
   "outputs": [],
   "source": [
    "def get_images(modality = 't2tsetra', orientation = 't'):\n",
    "    root_path = '../../data/PROSTATEx'\n",
    "    path_to_data = '../../data/'\n",
    "    new_spacing = (1,1,1)\n",
    "    patch_size = (20,20,1)\n",
    "    images = []\n",
    "\n",
    "\n",
    "    target_path = os.path.join(path_to_data,modality,orientation, \n",
    "                                str(patch_size[0]) + 'x' + str(patch_size[1]) + 'x' + str(patch_size[2]))\n",
    "\n",
    "    # x = 1.5\n",
    "    # offsets = [[0,0,0],[-x,x,x],[x,x,x],[-x,-x,x],[x,-x,x],\n",
    "    #             [-x,x,0],[x,x,0],[-x,-x,0],[x,-x,0],[-x,x,-x],[x,x,-x],[-x,-x,-x],[x,-x,-x]]\n",
    "    offsets = [[0,0,0]]\n",
    "\n",
    "\n",
    "\n",
    "    new_df = pd.DataFrame(columns = ['ProxID','fid','zone','ClinSig','name'])\n",
    "    roi_volumes = []\n",
    "    # findings = df_findings.drop(df_findings.index[[33,34,35,36,37,154,84,110,131,145,176,179,215,230,264,265,268,275,292,304]])\n",
    "    # findings = df_findings.drop(df_findings.index[[33,34,35,36,37,154,44,45,84,110,131,145,176,179,215,230,264,265,268,275,292,304]])\n",
    "    findings = df_findings.drop(df_findings.index[[33,34,35,36,37,154,5,44,45,46,64,\n",
    "                                                   81,84,87,110,114,131,145,162,176,179,190,193,215,230,246,264,265,268,275,292,304,325]])\n",
    "    findings = findings[findings['zone'] != 'SV']\n",
    "\n",
    "    # iterate throught all findings\n",
    "    index = 0\n",
    "    for idx,row in findings.iterrows():\n",
    "\n",
    "        if modality == 'ktrans':\n",
    "            path_to_image = my.get_ktrans_path(row['ProxID'],path_to_data)\n",
    "            image = sitk.ReadImage(path_to_image)\n",
    "        else:\n",
    "            path_to_image = my.get_path(row['ProxID'], modality, root_path)\n",
    "            fixed_series_filenames = sitk.ImageSeriesReader_GetGDCMSeriesFileNames(path_to_image)\n",
    "            image = sitk.ReadImage(fixed_series_filenames)\n",
    "\n",
    "        # fit normalizer\n",
    "        normalizer = normalization.ScaleNormalization()\n",
    "        normalizer.fit(sitk.GetArrayFromImage(image))\n",
    "        # resample image to same spacing in all directions\n",
    "        image = my.resample_image_to_spacing(image, new_spacing, sitk.sitkLinear)\n",
    "\n",
    "        # extract region of interest\n",
    "        center = [float(x) for x in row['pos'].split()] \n",
    "        for i,offset in enumerate(offsets):\n",
    "            volume  = my.get_patch_from_image(image, patch_size, center, orientation)\n",
    "            # normalise data\n",
    "            volume = normalizer.normalise(volume)\n",
    "\n",
    "            #save image\n",
    "            file_name = row['ProxID']+'_'+str(index)+'_'+row['zone']+'.nii'\n",
    "            new_df.loc[index] = row[['ProxID','fid','zone','ClinSig']]\n",
    "            new_df.loc[index,'name'] = file_name\n",
    "            new_df.loc[index,'ID'] = idx\n",
    "            new_df.loc[index,'normalization'] = normalizer.name\n",
    "\n",
    "            images.append(volume)\n",
    "\n",
    "            index += 1\n",
    "    images = np.array(images)\n",
    "    print(\"shape: \", images.shape)\n",
    "    return images,new_df"
   ]
  },
  {
   "cell_type": "code",
   "execution_count": 72,
   "metadata": {},
   "outputs": [
    {
     "name": "stdout",
     "output_type": "stream",
     "text": [
      "shape:  (296, 20, 20)\n"
     ]
    }
   ],
   "source": [
    "imagest = get_images('adc','t')"
   ]
  },
  {
   "cell_type": "code",
   "execution_count": 71,
   "metadata": {},
   "outputs": [
    {
     "name": "stdout",
     "output_type": "stream",
     "text": [
      "shape:  (296, 20, 20)\n"
     ]
    }
   ],
   "source": [
    "imagesa = get_images('adc','a')"
   ]
  },
  {
   "cell_type": "code",
   "execution_count": 79,
   "metadata": {},
   "outputs": [
    {
     "name": "stdout",
     "output_type": "stream",
     "text": [
      "shape:  (296, 20, 20)\n"
     ]
    }
   ],
   "source": [
    "imagess = get_images('adc','s')"
   ]
  },
  {
   "cell_type": "code",
   "execution_count": 77,
   "metadata": {},
   "outputs": [
    {
     "data": {
      "text/plain": [
       "<matplotlib.image.AxesImage at 0x7f4e0f7d7e80>"
      ]
     },
     "execution_count": 77,
     "metadata": {},
     "output_type": "execute_result"
    },
    {
     "data": {
      "image/png": "[encoded data removed]",
      "text/plain": [
       "<Figure size 432x288 with 1 Axes>"
      ]
     },
     "metadata": {
      "needs_background": "light"
     },
     "output_type": "display_data"
    }
   ],
   "source": [
    "plt.imshow(imagest[0][0],cmap = 'gray')\n"
   ]
  },
  {
   "cell_type": "code",
   "execution_count": 78,
   "metadata": {},
   "outputs": [
    {
     "data": {
      "text/plain": [
       "<matplotlib.image.AxesImage at 0x7f4e0f735550>"
      ]
     },
     "execution_count": 78,
     "metadata": {},
     "output_type": "execute_result"
    },
    {
     "data": {
      "image/png": "[encoded data removed]",
      "text/plain": [
       "<Figure size 432x288 with 1 Axes>"
      ]
     },
     "metadata": {
      "needs_background": "light"
     },
     "output_type": "display_data"
    }
   ],
   "source": [
    "plt.imshow(imagesa[0][0],cmap = 'gray')"
   ]
  },
  {
   "cell_type": "code",
   "execution_count": 80,
   "metadata": {},
   "outputs": [
    {
     "data": {
      "text/plain": [
       "<matplotlib.image.AxesImage at 0x7f4e0f6b2908>"
      ]
     },
     "execution_count": 80,
     "metadata": {},
     "output_type": "execute_result"
    },
    {
     "data": {
      "image/png": "[encoded data removed]",
      "text/plain": [
       "<Figure size 432x288 with 1 Axes>"
      ]
     },
     "metadata": {
      "needs_background": "light"
     },
     "output_type": "display_data"
    }
   ],
   "source": [
    "plt.imshow(imagess[0][0],cmap = 'gray')"
   ]
  },
  {
   "cell_type": "code",
   "execution_count": 29,
   "metadata": {},
   "outputs": [],
   "source": [
    "\n",
    "METHOD = 'default'\n",
    "lbp = local_binary_pattern(roi_t2w[2], 16, 2, METHOD)"
   ]
  },
  {
   "cell_type": "code",
   "execution_count": 30,
   "metadata": {},
   "outputs": [
    {
     "data": {
      "text/plain": [
       "<matplotlib.image.AxesImage at 0x7f3d53c8eba8>"
      ]
     },
     "execution_count": 30,
     "metadata": {},
     "output_type": "execute_result"
    },
    {
     "data": {
      "image/png": "[encoded data removed]",
      "text/plain": [
       "<Figure size 432x288 with 1 Axes>"
      ]
     },
     "metadata": {
      "needs_background": "light"
     },
     "output_type": "display_data"
    }
   ],
   "source": [
    "plt.imshow(roi_t2w[2],cmap = 'gray')"
   ]
  },
  {
   "cell_type": "code",
   "execution_count": 31,
   "metadata": {},
   "outputs": [
    {
     "data": {
      "text/plain": [
       "<matplotlib.image.AxesImage at 0x7f3d53c646d8>"
      ]
     },
     "execution_count": 31,
     "metadata": {},
     "output_type": "execute_result"
    },
    {
     "data": {
      "image/png": "[encoded data removed]",
      "text/plain": [
       "<Figure size 432x288 with 1 Axes>"
      ]
     },
     "metadata": {
      "needs_background": "light"
     },
     "output_type": "display_data"
    }
   ],
   "source": [
    "plt.imshow(lbp,cmap = 'gray')"
   ]
  },
  {
   "cell_type": "code",
   "execution_count": 50,
   "metadata": {},
   "outputs": [],
   "source": [
    "root_path = '../../data/PROSTATEx'\n",
    "path_to_data = '../../data/'\n",
    "modality = 'adc'\n",
    "new_spacing = (0.5,0.5,0.5)\n",
    "orientation = 't'\n",
    "patch_size = (28,28,1)\n",
    "\n",
    "\n",
    "path_to_image = ppcs.get_path(row['ProxID'], modality, root_path)\n",
    "fixed_series_filenames = sitk.ImageSeriesReader_GetGDCMSeriesFileNames(path_to_image)\n",
    "image = sitk.ReadImage(fixed_series_filenames)\n",
    "# image = ppcs.resample_image_to_spacing(image, new_spacing, sitk.sitkBSpline)\n",
    "# \n",
    "# center = [float(x) for x in row['pos'].split()] \n",
    "# volume  = ppcs.get_patch_from_image(image, patch_size, center, orientation)"
   ]
  },
  {
   "cell_type": "code",
   "execution_count": 51,
   "metadata": {},
   "outputs": [
    {
     "name": "stdout",
     "output_type": "stream",
     "text": [
      "(84, 128, 19)\n",
      "(2.0, 2.0, 2.999999761581421)\n",
      "(-71.29265594482422, -101.67921447753906, -5.4167399406433105)\n"
     ]
    }
   ],
   "source": [
    "print(image.GetSize())\n",
    "print(image.GetSpacing())\n",
    "print(image.GetOrigin())"
   ]
  }
 ],
 "metadata": {
  "kernelspec": {
   "display_name": "TensorFlow-GPU",
   "language": "python",
   "name": "tf-gpu"
  },
  "language_info": {
   "codemirror_mode": {
    "name": "ipython",
    "version": 3
   },
   "file_extension": ".py",
   "mimetype": "text/x-python",
   "name": "python",
   "nbconvert_exporter": "python",
   "pygments_lexer": "ipython3",
   "version": "3.6.8"
  }
 },
 "nbformat": 4,
 "nbformat_minor": 2
}
