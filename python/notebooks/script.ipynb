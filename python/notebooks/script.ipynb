{
 "cells": [
  {
   "cell_type": "code",
   "execution_count": 2,
   "metadata": {},
   "outputs": [],
   "source": [
    "import SimpleITK as sitk\n",
    "# from downloaddata import fetch_data as fdata\n",
    "%matplotlib inline\n",
    "from extensies import gui\n",
    "from extensies import registration_gui as rgui\n",
    "from extensies import preprocessing as ppcs\n",
    "from extensies import normalization \n",
    "import pandas as pd\n",
    "import matplotlib.pyplot as plt\n",
    "import numpy as np\n",
    "import os\n",
    "from skimage.feature import local_binary_pattern\n",
    "\n",
    "import re "
   ]
  },
  {
   "cell_type": "markdown",
   "metadata": {},
   "source": [
    "### Load findings and informations about images"
   ]
  },
  {
   "cell_type": "code",
   "execution_count": 3,
   "metadata": {},
   "outputs": [],
   "source": [
    "df_images = pd.read_csv('../data/ProstateX-TrainingLesionInformationv2/ProstateX-TrainingLesionInformationv2/ProstateX-Images-Train.csv')\n",
    "df_findings = pd.read_csv('../data/ProstateX-TrainingLesionInformationv2/ProstateX-TrainingLesionInformationv2/ProstateX-Findings-Train.csv')\n",
    "df_ktrans = pd.read_csv('../../data/info/ProstateX-Images-KTrans-Train.csv')"
   ]
  },
  {
   "cell_type": "code",
   "execution_count": 50,
   "metadata": {},
   "outputs": [],
   "source": [
    "x = 1\n",
    "offsets = [[0,0,0],[-x,x,x],[x,x,x],[-x,-x,x],[x,-x,x],\n",
    "           [-x,x,0],[x,x,0],[-x,-x,0],[x,-x,0],[-x,x,-x],[x,x,-x],[-x,-x,-x],[x,-x,-x]]"
   ]
  },
  {
   "cell_type": "code",
   "execution_count": 51,
   "metadata": {},
   "outputs": [
    {
     "name": "stdout",
     "output_type": "stream",
     "text": [
      "65\n"
     ]
    }
   ],
   "source": [
    "root_path = '../../data/PROSTATEx'\n",
    "path_to_data = '../../data/'\n",
    "modality = 't2tsetra'\n",
    "new_spacing = (0.5,0.5,3)\n",
    "orientation = 't'\n",
    "patch_size = (28,28,1)\n",
    "\n",
    "target_path = os.path.join(path_to_data, modality, orientation, \n",
    "                            str(patch_size[0]) + 'x' + str(patch_size[1]) + 'x' + str(patch_size[2]))\n",
    "new_df = pd.DataFrame(columns = ['ProxID','fid','zone','ClinSig','name'])\n",
    "roi_t2w = []\n",
    "findings = df_findings.drop(df_findings.index[[33,34,35,36,37,154]])\n",
    "# iterate throught all findings\n",
    "for idx,row in findings[:5].iterrows():\n",
    "    path_to_image = ppcs.get_path(row['ProxID'], modality, root_path)\n",
    "    fixed_series_filenames = sitk.ImageSeriesReader_GetGDCMSeriesFileNames(path_to_image)\n",
    "    image = sitk.ReadImage(fixed_series_filenames)\n",
    "    # fit normalizer\n",
    "    normalizer = normalization.ScaleNormalization()\n",
    "    normalizer.fit(sitk.GetArrayFromImage(image))\n",
    "    # resample image to same spacing in all directions\n",
    "#     image = ppcs.resample_image_to_spacing(image, new_spacing, sitk.sitkBSpline)\n",
    "\n",
    "    # extract region of interest\n",
    "    center = [float(x) for x in row['pos'].split()] \n",
    "    for offset in  offsets:\n",
    "        volume = ppcs.get_patch_from_image(image, patch_size, center, orientation,offset)\n",
    "\n",
    "        volume = normalizer.normalise(volume)\n",
    "\n",
    "        roi_t2w.append(volume)\n",
    "    \n",
    "#     file_name = row['ProxID']+'_'+str(idx)+'_'+row['zone']+'.nii'\n",
    "#     new_df.loc[idx] = row[['ProxID','fid','zone','ClinSig']]\n",
    "#     new_df.loc[idx,'name'] = file_name\n",
    "    \n",
    "#     ppcs.save_image(volume, os.path.join(target_path,file_name))\n",
    "    \n",
    "# new_df.to_csv(os.path.join(target_path,'info.csv'))\n",
    "print(len(roi_t2w))"
   ]
  },
  {
   "cell_type": "code",
   "execution_count": 65,
   "metadata": {},
   "outputs": [
    {
     "data": {
      "text/plain": [
       "<matplotlib.image.AxesImage at 0x7f136d552f28>"
      ]
     },
     "execution_count": 65,
     "metadata": {},
     "output_type": "execute_result"
    },
    {
     "data": {
      "image/png": "[encoded data removed]",
      "text/plain": [
       "<Figure size 432x288 with 1 Axes>"
      ]
     },
     "metadata": {
      "needs_background": "light"
     },
     "output_type": "display_data"
    }
   ],
   "source": [
    "plt.imshow(roi_t2w[12],cmap = 'gray')"
   ]
  },
  {
   "cell_type": "code",
   "execution_count": 4,
   "metadata": {},
   "outputs": [
    {
     "name": "stdout",
     "output_type": "stream",
     "text": [
      "324\n"
     ]
    }
   ],
   "source": [
    "modality = 'adc'\n",
    "roi_adc = []\n",
    "# iterate throught all findings\n",
    "for idx,row in findings.iterrows():\n",
    "    path_to_image = ppcs.get_path(row['ProxID'], modality, root_path)\n",
    "    fixed_series_filenames = sitk.ImageSeriesReader_GetGDCMSeriesFileNames(path_to_image)\n",
    "    image = sitk.ReadImage(fixed_series_filenames)\n",
    "    # fit normalizer\n",
    "    normalizer = normalization.ScaleNormalization()\n",
    "    normalizer.fit(sitk.GetArrayFromImage(image))\n",
    "    # resample image to same spacing in all directions\n",
    "    image = ppcs.resample_image_to_spacing(image, new_spacing, sitk.sitkBSpline)\n",
    "\n",
    "    # extract region of interest\n",
    "    center = [float(x) for x in row['pos'].split()] \n",
    "    volume  = ppcs.get_patch_from_image(image, patch_size, center, orientation)\n",
    "\n",
    "    volume = normalizer.normalise(volume)\n",
    "    \n",
    "    roi_adc.append(volume)\n",
    "print(len(roi_adc))"
   ]
  },
  {
   "cell_type": "code",
   "execution_count": 5,
   "metadata": {},
   "outputs": [
    {
     "name": "stdout",
     "output_type": "stream",
     "text": [
      "0\n",
      "1\n",
      "2\n",
      "3\n",
      "4\n",
      "5\n",
      "6\n",
      "7\n",
      "8\n",
      "9\n",
      "10\n",
      "11\n",
      "12\n",
      "13\n",
      "14\n",
      "15\n",
      "16\n",
      "17\n",
      "18\n",
      "19\n",
      "20\n",
      "21\n",
      "22\n",
      "23\n",
      "24\n",
      "25\n",
      "26\n",
      "27\n",
      "28\n",
      "29\n",
      "30\n",
      "31\n",
      "32\n",
      "38\n",
      "39\n",
      "40\n",
      "41\n",
      "42\n",
      "43\n",
      "44\n",
      "45\n",
      "46\n",
      "47\n",
      "48\n",
      "49\n",
      "50\n",
      "51\n",
      "52\n",
      "53\n",
      "54\n",
      "55\n",
      "56\n",
      "57\n",
      "58\n",
      "59\n",
      "60\n",
      "61\n",
      "62\n",
      "63\n",
      "64\n",
      "65\n",
      "66\n",
      "67\n",
      "68\n",
      "69\n",
      "70\n",
      "71\n",
      "72\n",
      "73\n",
      "74\n",
      "75\n",
      "76\n",
      "77\n",
      "78\n",
      "79\n",
      "80\n",
      "81\n",
      "82\n",
      "83\n",
      "84\n",
      "85\n",
      "86\n",
      "87\n",
      "88\n",
      "89\n",
      "90\n",
      "91\n",
      "92\n",
      "93\n",
      "94\n",
      "95\n",
      "96\n",
      "97\n",
      "98\n",
      "99\n",
      "100\n",
      "101\n",
      "102\n",
      "103\n",
      "104\n",
      "105\n",
      "106\n",
      "107\n",
      "108\n",
      "109\n",
      "110\n",
      "111\n",
      "112\n",
      "113\n",
      "114\n",
      "115\n",
      "116\n",
      "117\n",
      "118\n",
      "119\n",
      "120\n",
      "121\n",
      "122\n",
      "123\n",
      "124\n",
      "125\n",
      "126\n",
      "127\n",
      "128\n",
      "129\n",
      "130\n",
      "131\n",
      "132\n",
      "133\n",
      "134\n",
      "135\n",
      "136\n",
      "137\n",
      "138\n",
      "139\n",
      "140\n",
      "141\n",
      "142\n",
      "143\n",
      "144\n",
      "145\n",
      "146\n",
      "147\n",
      "148\n",
      "149\n",
      "150\n",
      "151\n",
      "152\n",
      "153\n",
      "155\n",
      "156\n",
      "157\n",
      "158\n",
      "159\n",
      "160\n",
      "161\n",
      "162\n",
      "163\n",
      "164\n",
      "165\n",
      "166\n",
      "167\n",
      "168\n",
      "169\n",
      "170\n",
      "171\n",
      "172\n",
      "173\n",
      "174\n",
      "175\n",
      "176\n",
      "177\n",
      "178\n",
      "179\n",
      "180\n",
      "181\n",
      "182\n",
      "183\n",
      "184\n",
      "185\n",
      "186\n",
      "187\n",
      "188\n",
      "189\n",
      "190\n",
      "191\n",
      "192\n",
      "193\n",
      "194\n",
      "195\n",
      "196\n",
      "197\n",
      "198\n",
      "199\n",
      "200\n",
      "201\n",
      "202\n",
      "203\n",
      "204\n",
      "205\n",
      "206\n",
      "207\n",
      "208\n",
      "209\n",
      "210\n",
      "211\n",
      "212\n",
      "213\n",
      "214\n",
      "215\n",
      "216\n",
      "217\n",
      "218\n",
      "219\n",
      "220\n",
      "221\n",
      "222\n",
      "223\n",
      "224\n",
      "225\n",
      "226\n",
      "227\n",
      "228\n",
      "229\n",
      "230\n",
      "231\n",
      "232\n",
      "233\n",
      "234\n",
      "235\n",
      "236\n",
      "237\n",
      "238\n",
      "239\n",
      "240\n",
      "241\n",
      "242\n",
      "243\n",
      "244\n",
      "245\n",
      "246\n",
      "247\n",
      "248\n",
      "249\n",
      "250\n",
      "251\n",
      "252\n",
      "253\n",
      "254\n",
      "255\n",
      "256\n",
      "257\n",
      "258\n",
      "259\n",
      "260\n",
      "261\n",
      "262\n",
      "263\n",
      "264\n",
      "265\n",
      "266\n",
      "267\n",
      "268\n",
      "269\n",
      "270\n",
      "271\n",
      "272\n",
      "273\n",
      "274\n",
      "275\n",
      "276\n",
      "277\n",
      "278\n",
      "279\n",
      "280\n",
      "281\n",
      "282\n",
      "283\n",
      "284\n",
      "285\n",
      "286\n",
      "287\n",
      "288\n",
      "289\n",
      "290\n",
      "291\n",
      "292\n",
      "293\n",
      "294\n",
      "295\n",
      "296\n",
      "297\n",
      "298\n",
      "299\n",
      "300\n",
      "301\n",
      "302\n",
      "303\n",
      "304\n",
      "305\n",
      "306\n",
      "307\n",
      "308\n",
      "309\n",
      "310\n",
      "311\n",
      "312\n",
      "313\n",
      "314\n",
      "315\n",
      "316\n",
      "317\n",
      "318\n",
      "319\n",
      "320\n",
      "321\n",
      "322\n",
      "323\n",
      "324\n",
      "325\n",
      "326\n",
      "327\n",
      "328\n",
      "329\n",
      "324\n"
     ]
    }
   ],
   "source": [
    "modality = 'ktrans'\n",
    "roi_ktrans = []\n",
    "# iterate throught all findings\n",
    "for idx,row in findings.iterrows():\n",
    "    path_to_image = os.path.join(path_to_data,'Ktrans',row['ProxID'])\n",
    "    image_name  = row['ProxID'] + '-Ktrans.mhd'\n",
    "    image = sitk.ReadImage(os.path.join(path_to_image,image_name))\n",
    "    # fit normalizer\n",
    "    normalizer = normalization.ScaleNormalization()\n",
    "    normalizer.fit(sitk.GetArrayFromImage(image))\n",
    "    # resample image to same spacing in all directions\n",
    "    image = ppcs.resample_image_to_spacing(image, new_spacing, sitk.sitkBSpline)\n",
    "\n",
    "    # extract region of interest\n",
    "    center = [float(x) for x in row['pos'].split()]\n",
    "    if idx == 154:\n",
    "        center = ((2.5049999999999955, 56.502799760464114, -11.32366482773891))\n",
    "    volume  = ppcs.get_patch_from_image(image, patch_size, center, orientation)\n",
    "\n",
    "    volume = normalizer.normalise(volume)\n",
    "    \n",
    "    roi_ktrans.append(volume)\n",
    "print(len(roi_ktrans))"
   ]
  },
  {
   "cell_type": "markdown",
   "metadata": {},
   "source": [
    "## findings.loc[154]"
   ]
  },
  {
   "cell_type": "code",
   "execution_count": 29,
   "metadata": {},
   "outputs": [],
   "source": [
    "\n",
    "METHOD = 'default'\n",
    "lbp = local_binary_pattern(roi_t2w[2], 16, 2, METHOD)"
   ]
  },
  {
   "cell_type": "code",
   "execution_count": 30,
   "metadata": {},
   "outputs": [
    {
     "data": {
      "text/plain": [
       "<matplotlib.image.AxesImage at 0x7f3d53c8eba8>"
      ]
     },
     "execution_count": 30,
     "metadata": {},
     "output_type": "execute_result"
    },
    {
     "data": {
      "image/png": "[encoded data removed]",
      "text/plain": [
       "<Figure size 432x288 with 1 Axes>"
      ]
     },
     "metadata": {
      "needs_background": "light"
     },
     "output_type": "display_data"
    }
   ],
   "source": [
    "plt.imshow(roi_t2w[2],cmap = 'gray')"
   ]
  },
  {
   "cell_type": "code",
   "execution_count": 31,
   "metadata": {},
   "outputs": [
    {
     "data": {
      "text/plain": [
       "<matplotlib.image.AxesImage at 0x7f3d53c646d8>"
      ]
     },
     "execution_count": 31,
     "metadata": {},
     "output_type": "execute_result"
    },
    {
     "data": {
      "image/png": "[encoded data removed]",
      "text/plain": [
       "<Figure size 432x288 with 1 Axes>"
      ]
     },
     "metadata": {
      "needs_background": "light"
     },
     "output_type": "display_data"
    }
   ],
   "source": [
    "plt.imshow(lbp,cmap = 'gray')"
   ]
  },
  {
   "cell_type": "code",
   "execution_count": 50,
   "metadata": {},
   "outputs": [],
   "source": [
    "root_path = '../../data/PROSTATEx'\n",
    "path_to_data = '../../data/'\n",
    "modality = 'adc'\n",
    "new_spacing = (0.5,0.5,0.5)\n",
    "orientation = 't'\n",
    "patch_size = (28,28,1)\n",
    "\n",
    "\n",
    "path_to_image = ppcs.get_path(row['ProxID'], modality, root_path)\n",
    "fixed_series_filenames = sitk.ImageSeriesReader_GetGDCMSeriesFileNames(path_to_image)\n",
    "image = sitk.ReadImage(fixed_series_filenames)\n",
    "# image = ppcs.resample_image_to_spacing(image, new_spacing, sitk.sitkBSpline)\n",
    "# \n",
    "# center = [float(x) for x in row['pos'].split()] \n",
    "# volume  = ppcs.get_patch_from_image(image, patch_size, center, orientation)"
   ]
  },
  {
   "cell_type": "code",
   "execution_count": 51,
   "metadata": {},
   "outputs": [
    {
     "name": "stdout",
     "output_type": "stream",
     "text": [
      "(84, 128, 19)\n",
      "(2.0, 2.0, 2.999999761581421)\n",
      "(-71.29265594482422, -101.67921447753906, -5.4167399406433105)\n"
     ]
    }
   ],
   "source": [
    "print(image.GetSize())\n",
    "print(image.GetSpacing())\n",
    "print(image.GetOrigin())"
   ]
  },
  {
   "cell_type": "markdown",
   "metadata": {},
   "source": [
    "## Augmentation"
   ]
  },
  {
   "cell_type": "code",
   "execution_count": 1,
   "metadata": {},
   "outputs": [],
   "source": [
    "from sklearn.model_selection import train_test_split\n",
    "from siamese.dataset import Dataset\n",
    "from siamese.dataset import DataLoader\n",
    "\n",
    "loader = DataLoader('../../data/',['t2tsetra/t/40x40x1/'])\n",
    "loader.load_data()\n",
    "X,y = loader.get_data('t2tsetra/t/40x40x1/')\n",
    "X_train, X_test, y_train, y_test = train_test_split(X, y, test_size=0.2, random_state=42)"
   ]
  },
  {
   "cell_type": "code",
   "execution_count": 195,
   "metadata": {},
   "outputs": [],
   "source": [
    "modalities = ['t2tsetra/t/28x28x1/','adc/t/28x28x1/','ktrans/t/28x28x1/']\n",
    "\n",
    "loader = DataLoader('../../data/',modalities)\n",
    "loader.load_data()\n",
    "X,y = loader.combine_channels(modalities)"
   ]
  },
  {
   "cell_type": "code",
   "execution_count": 196,
   "metadata": {},
   "outputs": [
    {
     "data": {
      "text/plain": [
       "(324, 28, 28, 3)"
      ]
     },
     "execution_count": 196,
     "metadata": {},
     "output_type": "execute_result"
    }
   ],
   "source": [
    "X.shape"
   ]
  },
  {
   "cell_type": "code",
   "execution_count": 4,
   "metadata": {},
   "outputs": [],
   "source": [
    "import tensorflow as tf\n",
    "(X_train,y_train),(X_test,y_test) = tf.keras.datasets.fashion_mnist.load_data()"
   ]
  },
  {
   "cell_type": "code",
   "execution_count": 192,
   "metadata": {},
   "outputs": [
    {
     "data": {
      "text/plain": [
       "<matplotlib.image.AxesImage at 0x7f848d8ffb70>"
      ]
     },
     "execution_count": 192,
     "metadata": {},
     "output_type": "execute_result"
    },
    {
     "data": {
      "image/png": "[encoded data removed]",
      "text/plain": [
       "<Figure size 432x288 with 1 Axes>"
      ]
     },
     "metadata": {
      "needs_background": "light"
     },
     "output_type": "display_data"
    }
   ],
   "source": [
    "from imgaug import augmenters as iaa\n",
    "\n",
    "seq = iaa.Sequential([\n",
    "    iaa.Sometimes(0.5,\n",
    "       iaa.ElasticTransformation(sigma=5.0,alpha = 20)),\n",
    "#     iaa.PiecewiseAffine(scale = (0,0.05)),\n",
    "    iaa.Fliplr(0.5), # horizontally flip 50% of the images\n",
    "    iaa.Flipud(0.5),\n",
    "    iaa.Sometimes(0.5, \n",
    "        iaa.Rot90(k=(0,3))),\n",
    "\n",
    "    iaa.CropToFixedSize(26,26,position = 'uniform') \n",
    "])\n",
    "\n",
    "images_aug = seq.augment_images(X)  # done by the library\n",
    "plt.imshow(np.resize(images_aug[18],(26,26)))"
   ]
  },
  {
   "cell_type": "code",
   "execution_count": 167,
   "metadata": {},
   "outputs": [
    {
     "data": {
      "text/plain": [
       "(100, 40, 40, 1)"
      ]
     },
     "execution_count": 167,
     "metadata": {},
     "output_type": "execute_result"
    }
   ],
   "source": [
    "X_train[:100].shape"
   ]
  },
  {
   "cell_type": "code",
   "execution_count": null,
   "metadata": {},
   "outputs": [],
   "source": [
    "import Augmentor\n",
    "p = Augmentor.Pipeline()\n",
    "# p.resize(probability=1.0, width=40, height=40)\n",
    "p.random_distortion(1,5,5,3)\n",
    "p.flip_left_right(probability=0.3)\n",
    "p.flip_top_bottom(probability=0.3)\n",
    "p.crop_random(probability=0.3, percentage_area=0.95)\n",
    "p.resize(probability=1.0, width=40, height=40)\n",
    "\n",
    "g = p.keras_generator_from_array(np.array(roi_t2w[:1]),[1] , batch_size=10)\n",
    "images_aug, y = next(g)"
   ]
  },
  {
   "cell_type": "code",
   "execution_count": 35,
   "metadata": {},
   "outputs": [
    {
     "data": {
      "text/plain": [
       "<matplotlib.image.AxesImage at 0x7f848434deb8>"
      ]
     },
     "execution_count": 35,
     "metadata": {},
     "output_type": "execute_result"
    },
    {
     "data": {
      "image/png": "[encoded data removed]",
      "text/plain": [
       "<Figure size 432x288 with 1 Axes>"
      ]
     },
     "metadata": {
      "needs_background": "light"
     },
     "output_type": "display_data"
    }
   ],
   "source": [
    "plt.imshow(images_aug[30],cmap = 'gray')"
   ]
  },
  {
   "cell_type": "code",
   "execution_count": 199,
   "metadata": {},
   "outputs": [
    {
     "data": {
      "text/plain": [
       "<matplotlib.image.AxesImage at 0x7f848d83c240>"
      ]
     },
     "execution_count": 199,
     "metadata": {},
     "output_type": "execute_result"
    },
    {
     "data": {
      "image/png": "[encoded data removed]",
      "text/plain": [
       "<Figure size 432x288 with 1 Axes>"
      ]
     },
     "metadata": {
      "needs_background": "light"
     },
     "output_type": "display_data"
    }
   ],
   "source": [
    "plt.imshow(X[18])"
   ]
  },
  {
   "cell_type": "code",
   "execution_count": 2,
   "metadata": {},
   "outputs": [],
   "source": [
    "from extensies.augmentation import ElasticAugmentor"
   ]
  },
  {
   "cell_type": "code",
   "execution_count": 3,
   "metadata": {},
   "outputs": [],
   "source": [
    "a = ElasticAugmentor(X_train)"
   ]
  },
  {
   "cell_type": "code",
   "execution_count": 4,
   "metadata": {},
   "outputs": [],
   "source": [
    "X,y = a.generate_images(X_train,y_train,1000)"
   ]
  },
  {
   "cell_type": "code",
   "execution_count": 6,
   "metadata": {},
   "outputs": [
    {
     "ename": "NameError",
     "evalue": "name 'np' is not defined",
     "output_type": "error",
     "traceback": [
      "\u001b[0;31m---------------------------------------------------------------------------\u001b[0m",
      "\u001b[0;31mNameError\u001b[0m                                 Traceback (most recent call last)",
      "\u001b[0;32m<ipython-input-6-f455fbdbdf18>\u001b[0m in \u001b[0;36m<module>\u001b[0;34m\u001b[0m\n\u001b[0;32m----> 1\u001b[0;31m \u001b[0ma\u001b[0m \u001b[0;34m=\u001b[0m \u001b[0mnp\u001b[0m\u001b[0;34m.\u001b[0m\u001b[0marray\u001b[0m\u001b[0;34m(\u001b[0m\u001b[0mX\u001b[0m\u001b[0;34m)\u001b[0m\u001b[0;34m\u001b[0m\u001b[0;34m\u001b[0m\u001b[0m\n\u001b[0m",
      "\u001b[0;31mNameError\u001b[0m: name 'np' is not defined"
     ]
    }
   ],
   "source": [
    "a = np.array(X)"
   ]
  },
  {
   "cell_type": "code",
   "execution_count": 7,
   "metadata": {},
   "outputs": [
    {
     "data": {
      "text/plain": [
       "(1000, 38, 38, 1)"
      ]
     },
     "execution_count": 7,
     "metadata": {},
     "output_type": "execute_result"
    }
   ],
   "source": [
    "import numpy as np\n",
    "a = np.array(X)\n",
    "a.shape"
   ]
  },
  {
   "cell_type": "code",
   "execution_count": 8,
   "metadata": {},
   "outputs": [
    {
     "ename": "AttributeError",
     "evalue": "'numpy.ndarray' object has no attribute 'append'",
     "output_type": "error",
     "traceback": [
      "\u001b[0;31m---------------------------------------------------------------------------\u001b[0m",
      "\u001b[0;31mAttributeError\u001b[0m                            Traceback (most recent call last)",
      "\u001b[0;32m<ipython-input-8-6badb5536402>\u001b[0m in \u001b[0;36m<module>\u001b[0;34m\u001b[0m\n\u001b[0;32m----> 1\u001b[0;31m \u001b[0ma\u001b[0m\u001b[0;34m.\u001b[0m\u001b[0mappend\u001b[0m\u001b[0;34m(\u001b[0m\u001b[0;34m[\u001b[0m\u001b[0;34m[\u001b[0m\u001b[0;36m1\u001b[0m\u001b[0;34m]\u001b[0m\u001b[0;34m,\u001b[0m\u001b[0;34m[\u001b[0m\u001b[0;36m2\u001b[0m\u001b[0;34m]\u001b[0m\u001b[0;34m]\u001b[0m\u001b[0;34m)\u001b[0m\u001b[0;34m\u001b[0m\u001b[0;34m\u001b[0m\u001b[0m\n\u001b[0m",
      "\u001b[0;31mAttributeError\u001b[0m: 'numpy.ndarray' object has no attribute 'append'"
     ]
    }
   ],
   "source": [
    "a.append([[1],[2]])"
   ]
  },
  {
   "cell_type": "code",
   "execution_count": null,
   "metadata": {},
   "outputs": [],
   "source": []
  }
 ],
 "metadata": {
  "kernelspec": {
   "display_name": "TensorFlow-GPU",
   "language": "python",
   "name": "tf-gpu"
  },
  "language_info": {
   "codemirror_mode": {
    "name": "ipython",
    "version": 3
   },
   "file_extension": ".py",
   "mimetype": "text/x-python",
   "name": "python",
   "nbconvert_exporter": "python",
   "pygments_lexer": "ipython3",
   "version": "3.6.8"
  }
 },
 "nbformat": 4,
 "nbformat_minor": 2
}
