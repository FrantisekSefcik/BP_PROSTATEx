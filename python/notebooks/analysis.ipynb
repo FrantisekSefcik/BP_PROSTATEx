{
 "cells": [
  {
   "cell_type": "code",
   "execution_count": 2,
   "metadata": {},
   "outputs": [],
   "source": [
    "import pandas as pd\n",
    "import numpy as np\n",
    "import pylab as plt"
   ]
  },
  {
   "cell_type": "code",
   "execution_count": 3,
   "metadata": {},
   "outputs": [],
   "source": [
    "df_images = pd.read_csv('../data/ProstateX-TrainingLesionInformationv2/ProstateX-TrainingLesionInformationv2/ProstateX-Images-Train.csv')\n",
    "df_findings = pd.read_csv('../data/ProstateX-TrainingLesionInformationv2/ProstateX-TrainingLesionInformationv2/ProstateX-Findings-Train.csv')"
   ]
  },
  {
   "cell_type": "markdown",
   "metadata": {},
   "source": [
    "# PROSTATEx"
   ]
  },
  {
   "cell_type": "markdown",
   "metadata": {},
   "source": [
    "# Data overview\n",
    "\n",
    "##### All studies included T2-weighted (T2W), proton density-weighted (PD-W), dynamic contrast enhanced (DCE), and diffusion-weighted (DW) imaging.\n",
    "\n",
    "The images come in two encodings. The acquired MR is provided in DICOM encoding. Additionally Ktrans images are provided. They come in mhd format. Ktrans is a key pharmacokinetic parameter computed from the available Dynamic contrast enhanced T1-weighted series. Each patient has one study with several DICOM images and one Ktrans image.\n",
    "\n",
    "Basic overview of two documents which come with informations about MRI images in dataset and documented findings. \n"
   ]
  },
  {
   "cell_type": "markdown",
   "metadata": {},
   "source": [
    "## MRI\n",
    "[Source link](https://radiopaedia.org/articles/mri-sequences-overview)\n",
    "\n",
    "### T2W\n",
    "\n",
    "T2 weighted sequences are part of almost all MRI protocols. Without modification the dominant signal intensities of different tissues are:\n",
    "\n",
    "* fluid (e.g. urine, CSF): high signal intensity (white)\n",
    "* muscle: intermediate signal intensity (grey)\n",
    "* fat: high signal intensity (white)\n",
    "Brain\n",
    "* grey matter: intermediate signal intensity (grey)\n",
    "* white matter: hypointense compared to grey matter (dark-ish)\n",
    "\n",
    "#### TSE\n",
    "\n",
    "Fast or turbo spin echo (FSE/TSE) is an adaptation of conventional spin-echo (SE) acquisition technique designed to reduce imaging time. It has largely supplanted the original spin-echo technique due to vastly improved imaging speed.\n",
    "[Source link](https://radiopaedia.org/articles/fast-spin-echo)\n",
    "\n",
    "ther limitations of FSE include overly bright signals from fat on T2-weighted images and overly bright CSF on spin-density-weighted images. \n",
    "[Source link](http://mriquestions.com/what-is-fsetse.html)\n",
    "\n",
    "### PD-W (proton density-weighted)\n",
    "\n",
    "Given that nuclear magnetic resonance of protons (hydrogen ions) forms the major basis of MRI, it is not surprising that signal can be weighted to reflect the actual density of protons; an intermediate sequence sharing some features of both T1 and T2.\n",
    "\n",
    "Proton density images were extensively used for brain imaging, however they have largely been replaced by FLAIR. PD however continues to offer excellent signal distinction between fluid, hyaline cartilage and fibrocartilage, which makes this sequence ideal in the assessment of joints. \n",
    "\n",
    "The dominant signal intensities of different tissues are:\n",
    "\n",
    "* fluid (e.g. joint fluid, CSF): high signal intensity (white)\n",
    "* muscle: intermediate signal intensity (grey)\n",
    "* fat: high signal intensity (white)\n",
    "* hyaline cartilage: intermediate signal intensity (grey)\n",
    "* fibrocartilage: low signal intensity (black)\n",
    "\n",
    "### DCE (dynamic contrast enhanced)\n",
    "\n",
    "Dynamic contrast-enhanced (DCE) MR perfusion, sometimes also referred to as permeability MRI, is one of the main MRI perfusion techniques which calculates perfusion parameters by evaluating T1 shortening induced by a gadolinium-based contrast bolus passing through tissue. \n",
    "\n",
    "### K-trans\n",
    "\n",
    "K trans is a measure of capillary permeability obtained using dynamic contrast-enhanced (DCE) MR perfusion. It is calculated by measuring the accumulation of gadolinium-based contrast agent in the extravascular-extracellular space. \n",
    "\n",
    "Increased permeability of vessels in the brain is seen in a variety of conditions:\n",
    "\n",
    "* glioma: VEGF produced by the tumour reduces the effectiveness of gap junction and creates fenestrations in the endothelium of brain capillaries; this has been shown to correlate with tumour grade 1\n",
    "* cerebral metastases, which lack blood brain barrier and resemble the vascularity of the parent tissue\n",
    "* inflammatory lesions (e.g. demyelinating plaques of multiple sclerosis)\n",
    "\n",
    "It should be noted that how ktrans is interpreted varied according to permeability and blood flow. In situations where permeability is very low (near-intact blood brain barrier) then ktrans is a useful measure of permeability, whereas in situations where permeability is very high (disrupted blood brain barrier) then ktrans will reflect blood flow 3. \n",
    "\n",
    "### DW (diffusion-weighted imaging)\n",
    "\n",
    "Diffusion weighted imaging assess the ease with which water molecules move around within a tissue (mostly representing fluid within the extracellular space) and gives insight into cellularity (e.g. tumours), cell swelling (e.g. ischaemia) and oedema.\n",
    "\n",
    "The dominant signal intensities of different tissues are:\n",
    "\n",
    "fluid (e.g. urine, CSF): no restriction to diffusion\n",
    "soft tissues (muscle, solid organs, brain): intermediate diffusion\n",
    "fat: little signal due to paucity of water\n",
    "Typically you will find three sets of images when diffusion weighted imaging is performed: DWI, ADC and B=0 images.\n",
    "\n",
    "#### DWI\n",
    "When we say \"DWI\" we usually are referring to what is in better terms an isotropic T2 weighted map as it represents the combination of actual diffusion values and T2 signal.\n",
    "\n",
    "It is a relatively low resolution image with the following appearance:\n",
    "\n",
    "* grey matter: intermediate signal intensity (grey)\n",
    "* white matter: slightly hypointense compared to grey matter\n",
    "* CSF: low signal (black)\n",
    "* fat: little signal due to paucity of water\n",
    "* other soft tissues: intermediate signal intensity (grey)\n",
    "Acute pathology (ischaemic stroke, cellular tumour, pus) usually appears as increased signal denoting restricted diffusion. However (and importantly), because there is a component of the image derived from T2 signal, some tissues that are bright on T2 will appear bright on DWI images without there being an abnormal restricted diffusion. This phenomenon is known as T2 shine through.\n",
    "\n",
    "#### ADC\n",
    "Apparent diffusion coefficient maps (ADC) are images representing the actual diffusion values of the tissue without T2 effects. They are therefore much more useful, and objective measures of diffusion values can be obtained, however they are much less pretty to look at. They appear basically as grayscale inverted DWI images.\n",
    "\n",
    "They are relatively low resolution images with the following appearances:\n",
    "\n",
    "* grey matter: intermediate signal intensity (grey)\n",
    "* white matter: slightly hyperintense compared to grey matter\n",
    "* CSF: high signal (white)\n",
    "* fat: little signal due to paucity of water\n",
    "* other soft tissues: intermediate signal intensity (grey)\n",
    "* Acute pathology (ischaemic stroke, cellular tumour, pus) usually appears as decreased signal denoting restricted diffusion.\n",
    "\n",
    "#### B=0\n",
    "If you see these, do not worry. They are only used to calculate ADC values. They are essentially T2 weighted images with a bit of susceptibility effects.\n",
    "\n",
    "## sag-tra-cor\n",
    "[Source](https://www.machinedesign.com/medical/what-s-difference-between-sagittal-coronal-and-transverse-planes)\n",
    "\n",
    "The **sagittal** or lateral plane dives the body into left and right halves and is an x-z plane. Technically, the sagittal or median plane goes right through the middle between the body’s left and right halves. Planes parallel the sagittal planes are called parasagittal planes. It is called the sagittal plane because it goes through or is parallel to the sagittal suture, the line running along the top of the skull that marks where the left and right halves of the skull grew together.\n",
    "\n",
    "The **coronal** or frontal planes divide the body into front and back (also called dorsal and ventral or posterior and anterior) sections and are x-y planes.\n",
    "\n",
    "The **transvers** planes, also known as the axial or horizontal planes, are parallel to the ground and divide the body into top and bottom parts. The top and bottom sections also called the superior and inferior section s or the cranial (head) and caudal (tial) sections). They are x-z planes.\n",
    "\n",
    "\n",
    "![alt text](images/Even_Smaller.png)\n",
    "\n",
    "## Dataset\n",
    "\n",
    "* T2W fast spin echo\n",
    "* diffusion-weighted single-shotecho planar imaging\n"
   ]
  },
  {
   "cell_type": "markdown",
   "metadata": {},
   "source": [
    "#### Image informations"
   ]
  },
  {
   "cell_type": "markdown",
   "metadata": {},
   "source": [
    "### Images head explanation\n",
    "\n",
    "* ProxID – ProstateX patient identifier \n",
    "* Name – Series description \n",
    "* fid – Finding ID\n",
    "* Pos – Scanner coordinate position of the finding\n",
    "* WorldMatrix – Matrix describing image orientation and scaling\n",
    "* ijk – Image column (i),row (j), and slice (k) coordinates of the finding.  Using the VTK/ITK/Python array convention, (0,0,0) represents the first column and first row of the first slice.\n",
    "* TopLevel\n",
    " * 0 - Series forms one image\n",
    " * 1 – A set of series forms a 4D image (e.g. Dynamic MR)\n",
    " * NA – Series form one image, but is part of a Level 1 4D image\n",
    "* SpacingBetweenSlices – Scalar spacing between slices\n",
    "* VoxelSpacing – Vector with x,y,z spacing scalars\n",
    "* Dim – Vector with 4D dimensions of the image \n",
    "* DCMSerDescr – Original DICOM series description\n",
    "* DCMSerNum – DICOM series number"
   ]
  },
  {
   "cell_type": "code",
   "execution_count": 4,
   "metadata": {},
   "outputs": [
    {
     "data": {
      "text/plain": [
       "ProxID                   object\n",
       "Name                     object\n",
       "fid                       int64\n",
       "pos                      object\n",
       "WorldMatrix              object\n",
       "ijk                      object\n",
       "TopLevel                float64\n",
       "SpacingBetweenSlices    float64\n",
       "VoxelSpacing             object\n",
       "Dim                      object\n",
       "DCMSerDescr              object\n",
       "DCMSerNum                 int64\n",
       "dtype: object"
      ]
     },
     "execution_count": 4,
     "metadata": {},
     "output_type": "execute_result"
    }
   ],
   "source": [
    "df_images.dtypes"
   ]
  },
  {
   "cell_type": "code",
   "execution_count": 5,
   "metadata": {},
   "outputs": [
    {
     "data": {
      "text/html": [
       "<div>\n",
       "<style scoped>\n",
       "    .dataframe tbody tr th:only-of-type {\n",
       "        vertical-align: middle;\n",
       "    }\n",
       "\n",
       "    .dataframe tbody tr th {\n",
       "        vertical-align: top;\n",
       "    }\n",
       "\n",
       "    .dataframe thead th {\n",
       "        text-align: right;\n",
       "    }\n",
       "</style>\n",
       "<table border=\"1\" class=\"dataframe\">\n",
       "  <thead>\n",
       "    <tr style=\"text-align: right;\">\n",
       "      <th></th>\n",
       "      <th>ProxID</th>\n",
       "      <th>Name</th>\n",
       "      <th>fid</th>\n",
       "      <th>pos</th>\n",
       "      <th>WorldMatrix</th>\n",
       "      <th>ijk</th>\n",
       "      <th>TopLevel</th>\n",
       "      <th>SpacingBetweenSlices</th>\n",
       "      <th>VoxelSpacing</th>\n",
       "      <th>Dim</th>\n",
       "      <th>DCMSerDescr</th>\n",
       "      <th>DCMSerNum</th>\n",
       "    </tr>\n",
       "  </thead>\n",
       "  <tbody>\n",
       "    <tr>\n",
       "      <th>0</th>\n",
       "      <td>ProstateX-0000</td>\n",
       "      <td>ep2d_diff_tra_DYNDIST_ADC0</td>\n",
       "      <td>1</td>\n",
       "      <td>25.7457 31.8707 -38.511</td>\n",
       "      <td>2,4.0067e-010,0.00377059,-46.6873,-0.000797221...</td>\n",
       "      <td>36 72 9</td>\n",
       "      <td>1.0</td>\n",
       "      <td>3.0</td>\n",
       "      <td>2,2,3</td>\n",
       "      <td>84x128x19x1</td>\n",
       "      <td>ep2d_diff_tra_DYNDIST_ADC</td>\n",
       "      <td>7</td>\n",
       "    </tr>\n",
       "    <tr>\n",
       "      <th>1</th>\n",
       "      <td>ProstateX-0000</td>\n",
       "      <td>ep2d_diff_tra_DYNDIST0</td>\n",
       "      <td>1</td>\n",
       "      <td>25.7457 31.8707 -38.511</td>\n",
       "      <td>2,4.0067e-010,0.00377059,-46.6873,-0.000797221...</td>\n",
       "      <td>36 72 9</td>\n",
       "      <td>1.0</td>\n",
       "      <td>3.0</td>\n",
       "      <td>2,2,3</td>\n",
       "      <td>84x128x19x1</td>\n",
       "      <td>ep2d_diff_tra_DYNDIST</td>\n",
       "      <td>6</td>\n",
       "    </tr>\n",
       "    <tr>\n",
       "      <th>2</th>\n",
       "      <td>ProstateX-0000</td>\n",
       "      <td>ep2d_diff_tra_DYNDIST1</td>\n",
       "      <td>1</td>\n",
       "      <td>25.7457 31.8707 -38.511</td>\n",
       "      <td>2,4.0067e-010,0.00377059,-46.6873,-0.000797221...</td>\n",
       "      <td>36 72 9</td>\n",
       "      <td>1.0</td>\n",
       "      <td>3.0</td>\n",
       "      <td>2,2,3</td>\n",
       "      <td>84x128x19x1</td>\n",
       "      <td>ep2d_diff_tra_DYNDIST</td>\n",
       "      <td>6</td>\n",
       "    </tr>\n",
       "    <tr>\n",
       "      <th>3</th>\n",
       "      <td>ProstateX-0000</td>\n",
       "      <td>ep2d_diff_tra_DYNDIST2</td>\n",
       "      <td>1</td>\n",
       "      <td>25.7457 31.8707 -38.511</td>\n",
       "      <td>2,4.0067e-010,0.00377059,-46.6873,-0.000797221...</td>\n",
       "      <td>36 72 9</td>\n",
       "      <td>1.0</td>\n",
       "      <td>3.0</td>\n",
       "      <td>2,2,3</td>\n",
       "      <td>84x128x19x1</td>\n",
       "      <td>ep2d_diff_tra_DYNDIST</td>\n",
       "      <td>6</td>\n",
       "    </tr>\n",
       "    <tr>\n",
       "      <th>4</th>\n",
       "      <td>ProstateX-0000</td>\n",
       "      <td>ep2d_diff_tra_DYNDISTCALC_BVAL0</td>\n",
       "      <td>1</td>\n",
       "      <td>25.7457 31.8707 -38.511</td>\n",
       "      <td>2,4.0067e-010,0.00377059,-46.6873,-0.000797221...</td>\n",
       "      <td>36 72 9</td>\n",
       "      <td>1.0</td>\n",
       "      <td>3.0</td>\n",
       "      <td>2,2,3</td>\n",
       "      <td>84x128x19x1</td>\n",
       "      <td>ep2d_diff_tra_DYNDISTCALC_BVAL</td>\n",
       "      <td>8</td>\n",
       "    </tr>\n",
       "  </tbody>\n",
       "</table>\n",
       "</div>"
      ],
      "text/plain": [
       "           ProxID                             Name  fid  \\\n",
       "0  ProstateX-0000       ep2d_diff_tra_DYNDIST_ADC0    1   \n",
       "1  ProstateX-0000           ep2d_diff_tra_DYNDIST0    1   \n",
       "2  ProstateX-0000           ep2d_diff_tra_DYNDIST1    1   \n",
       "3  ProstateX-0000           ep2d_diff_tra_DYNDIST2    1   \n",
       "4  ProstateX-0000  ep2d_diff_tra_DYNDISTCALC_BVAL0    1   \n",
       "\n",
       "                       pos                                        WorldMatrix  \\\n",
       "0  25.7457 31.8707 -38.511  2,4.0067e-010,0.00377059,-46.6873,-0.000797221...   \n",
       "1  25.7457 31.8707 -38.511  2,4.0067e-010,0.00377059,-46.6873,-0.000797221...   \n",
       "2  25.7457 31.8707 -38.511  2,4.0067e-010,0.00377059,-46.6873,-0.000797221...   \n",
       "3  25.7457 31.8707 -38.511  2,4.0067e-010,0.00377059,-46.6873,-0.000797221...   \n",
       "4  25.7457 31.8707 -38.511  2,4.0067e-010,0.00377059,-46.6873,-0.000797221...   \n",
       "\n",
       "       ijk  TopLevel  SpacingBetweenSlices VoxelSpacing          Dim  \\\n",
       "0  36 72 9       1.0                   3.0        2,2,3  84x128x19x1   \n",
       "1  36 72 9       1.0                   3.0        2,2,3  84x128x19x1   \n",
       "2  36 72 9       1.0                   3.0        2,2,3  84x128x19x1   \n",
       "3  36 72 9       1.0                   3.0        2,2,3  84x128x19x1   \n",
       "4  36 72 9       1.0                   3.0        2,2,3  84x128x19x1   \n",
       "\n",
       "                      DCMSerDescr  DCMSerNum  \n",
       "0       ep2d_diff_tra_DYNDIST_ADC          7  \n",
       "1           ep2d_diff_tra_DYNDIST          6  \n",
       "2           ep2d_diff_tra_DYNDIST          6  \n",
       "3           ep2d_diff_tra_DYNDIST          6  \n",
       "4  ep2d_diff_tra_DYNDISTCALC_BVAL          8  "
      ]
     },
     "execution_count": 5,
     "metadata": {},
     "output_type": "execute_result"
    }
   ],
   "source": [
    "df_images.head(5)"
   ]
  },
  {
   "cell_type": "markdown",
   "metadata": {},
   "source": [
    "### Findings head explanation\n",
    "\n",
    "* ProxID – ProstateX patient identifier\n",
    "* fid - Finding ID\n",
    "* pos - Scanner coordinate position of the finding\n",
    "* ClinSig – Identifier available in training set that identifies whether this is a clinically significant finding. Either the biopsy Gleason score was 7 or higher. Findings with a PIRADS score 2 were not biopsied and are not considered clinically significant. In our center the occurrence of clinically significant cancer in PIRADS 2 lesions is less than 5%."
   ]
  },
  {
   "cell_type": "code",
   "execution_count": 6,
   "metadata": {},
   "outputs": [
    {
     "data": {
      "text/plain": [
       "ProxID     object\n",
       "fid         int64\n",
       "pos        object\n",
       "zone       object\n",
       "ClinSig      bool\n",
       "dtype: object"
      ]
     },
     "execution_count": 6,
     "metadata": {},
     "output_type": "execute_result"
    }
   ],
   "source": [
    "df_findings.dtypes"
   ]
  },
  {
   "cell_type": "code",
   "execution_count": 7,
   "metadata": {},
   "outputs": [
    {
     "data": {
      "text/html": [
       "<div>\n",
       "<style scoped>\n",
       "    .dataframe tbody tr th:only-of-type {\n",
       "        vertical-align: middle;\n",
       "    }\n",
       "\n",
       "    .dataframe tbody tr th {\n",
       "        vertical-align: top;\n",
       "    }\n",
       "\n",
       "    .dataframe thead th {\n",
       "        text-align: right;\n",
       "    }\n",
       "</style>\n",
       "<table border=\"1\" class=\"dataframe\">\n",
       "  <thead>\n",
       "    <tr style=\"text-align: right;\">\n",
       "      <th></th>\n",
       "      <th>ProxID</th>\n",
       "      <th>fid</th>\n",
       "      <th>pos</th>\n",
       "      <th>zone</th>\n",
       "      <th>ClinSig</th>\n",
       "    </tr>\n",
       "  </thead>\n",
       "  <tbody>\n",
       "    <tr>\n",
       "      <th>0</th>\n",
       "      <td>ProstateX-0000</td>\n",
       "      <td>1</td>\n",
       "      <td>25.7457 31.8707 -38.511</td>\n",
       "      <td>PZ</td>\n",
       "      <td>True</td>\n",
       "    </tr>\n",
       "    <tr>\n",
       "      <th>1</th>\n",
       "      <td>ProstateX-0001</td>\n",
       "      <td>1</td>\n",
       "      <td>-40.5367071921656 29.320722668457 -16.70766907...</td>\n",
       "      <td>AS</td>\n",
       "      <td>False</td>\n",
       "    </tr>\n",
       "    <tr>\n",
       "      <th>2</th>\n",
       "      <td>ProstateX-0002</td>\n",
       "      <td>1</td>\n",
       "      <td>-27.0102 41.5467 -26.0469</td>\n",
       "      <td>PZ</td>\n",
       "      <td>True</td>\n",
       "    </tr>\n",
       "    <tr>\n",
       "      <th>3</th>\n",
       "      <td>ProstateX-0002</td>\n",
       "      <td>2</td>\n",
       "      <td>-2.058 38.6752 -34.6104</td>\n",
       "      <td>PZ</td>\n",
       "      <td>False</td>\n",
       "    </tr>\n",
       "    <tr>\n",
       "      <th>4</th>\n",
       "      <td>ProstateX-0003</td>\n",
       "      <td>1</td>\n",
       "      <td>22.1495 31.2717 -2.45933</td>\n",
       "      <td>TZ</td>\n",
       "      <td>False</td>\n",
       "    </tr>\n",
       "    <tr>\n",
       "      <th>5</th>\n",
       "      <td>ProstateX-0003</td>\n",
       "      <td>2</td>\n",
       "      <td>-21.2871 19.3995 19.7429</td>\n",
       "      <td>TZ</td>\n",
       "      <td>False</td>\n",
       "    </tr>\n",
       "    <tr>\n",
       "      <th>6</th>\n",
       "      <td>ProstateX-0004</td>\n",
       "      <td>1</td>\n",
       "      <td>-7.69665 3.64226 23.1659</td>\n",
       "      <td>AS</td>\n",
       "      <td>False</td>\n",
       "    </tr>\n",
       "    <tr>\n",
       "      <th>7</th>\n",
       "      <td>ProstateX-0005</td>\n",
       "      <td>0</td>\n",
       "      <td>-14.5174331665039 49.4428329467773 20.78152465...</td>\n",
       "      <td>PZ</td>\n",
       "      <td>True</td>\n",
       "    </tr>\n",
       "    <tr>\n",
       "      <th>8</th>\n",
       "      <td>ProstateX-0005</td>\n",
       "      <td>1</td>\n",
       "      <td>-38.6276 42.2781 21.4084</td>\n",
       "      <td>PZ</td>\n",
       "      <td>True</td>\n",
       "    </tr>\n",
       "    <tr>\n",
       "      <th>9</th>\n",
       "      <td>ProstateX-0005</td>\n",
       "      <td>1</td>\n",
       "      <td>-22.0892639160156 25.4668045043945 22.87915420...</td>\n",
       "      <td>TZ</td>\n",
       "      <td>False</td>\n",
       "    </tr>\n",
       "  </tbody>\n",
       "</table>\n",
       "</div>"
      ],
      "text/plain": [
       "           ProxID  fid                                                pos  \\\n",
       "0  ProstateX-0000    1                            25.7457 31.8707 -38.511   \n",
       "1  ProstateX-0001    1  -40.5367071921656 29.320722668457 -16.70766907...   \n",
       "2  ProstateX-0002    1                          -27.0102 41.5467 -26.0469   \n",
       "3  ProstateX-0002    2                            -2.058 38.6752 -34.6104   \n",
       "4  ProstateX-0003    1                           22.1495 31.2717 -2.45933   \n",
       "5  ProstateX-0003    2                           -21.2871 19.3995 19.7429   \n",
       "6  ProstateX-0004    1                           -7.69665 3.64226 23.1659   \n",
       "7  ProstateX-0005    0  -14.5174331665039 49.4428329467773 20.78152465...   \n",
       "8  ProstateX-0005    1                           -38.6276 42.2781 21.4084   \n",
       "9  ProstateX-0005    1  -22.0892639160156 25.4668045043945 22.87915420...   \n",
       "\n",
       "  zone  ClinSig  \n",
       "0   PZ     True  \n",
       "1   AS    False  \n",
       "2   PZ     True  \n",
       "3   PZ    False  \n",
       "4   TZ    False  \n",
       "5   TZ    False  \n",
       "6   AS    False  \n",
       "7   PZ     True  \n",
       "8   PZ     True  \n",
       "9   TZ    False  "
      ]
     },
     "execution_count": 7,
     "metadata": {},
     "output_type": "execute_result"
    }
   ],
   "source": [
    "df_findings.head(10)"
   ]
  },
  {
   "cell_type": "code",
   "execution_count": 8,
   "metadata": {},
   "outputs": [
    {
     "data": {
      "text/plain": [
       "<matplotlib.axes._subplots.AxesSubplot at 0x7fe703e82518>"
      ]
     },
     "execution_count": 8,
     "metadata": {},
     "output_type": "execute_result"
    },
    {
     "data": {
      "image/png": "[encoded data removed]",
      "text/plain": [
       "<Figure size 720x720 with 2 Axes>"
      ]
     },
     "metadata": {
      "needs_background": "light"
     },
     "output_type": "display_data"
    }
   ],
   "source": [
    "plt.rc('figure', figsize=(10, 5))\n",
    "\n",
    "# Size of matplotlib figures that contain subplots\n",
    "fizsize_with_subplots = (10, 10)\n",
    "\n",
    "# Size of matplotlib histogram bins\n",
    "bin_size = 10\n",
    "\n",
    "fig = plt.figure(figsize=fizsize_with_subplots) \n",
    "fig_dims = (3, 2)\n",
    "\n",
    "# Plot death and survival counts\n",
    "plt.subplot2grid(fig_dims, (0, 0))\n",
    "df_findings['ClinSig'].value_counts().plot(kind='bar', \n",
    "                                         title='number of clinically significant findings')\n",
    "plt.subplot2grid(fig_dims, (0,1))\n",
    "df_findings['zone'].value_counts().plot(kind='bar', \n",
    "                                         title='number of findings by zones')"
   ]
  },
  {
   "cell_type": "code",
   "execution_count": 9,
   "metadata": {},
   "outputs": [
    {
     "data": {
      "text/html": [
       "<div>\n",
       "<style scoped>\n",
       "    .dataframe tbody tr th:only-of-type {\n",
       "        vertical-align: middle;\n",
       "    }\n",
       "\n",
       "    .dataframe tbody tr th {\n",
       "        vertical-align: top;\n",
       "    }\n",
       "\n",
       "    .dataframe thead th {\n",
       "        text-align: right;\n",
       "    }\n",
       "</style>\n",
       "<table border=\"1\" class=\"dataframe\">\n",
       "  <thead>\n",
       "    <tr style=\"text-align: right;\">\n",
       "      <th>ClinSig</th>\n",
       "      <th>False</th>\n",
       "      <th>True</th>\n",
       "    </tr>\n",
       "    <tr>\n",
       "      <th>zone</th>\n",
       "      <th></th>\n",
       "      <th></th>\n",
       "    </tr>\n",
       "  </thead>\n",
       "  <tbody>\n",
       "    <tr>\n",
       "      <th>AS</th>\n",
       "      <td>24</td>\n",
       "      <td>31</td>\n",
       "    </tr>\n",
       "    <tr>\n",
       "      <th>PZ</th>\n",
       "      <td>155</td>\n",
       "      <td>36</td>\n",
       "    </tr>\n",
       "    <tr>\n",
       "      <th>SV</th>\n",
       "      <td>2</td>\n",
       "      <td>0</td>\n",
       "    </tr>\n",
       "    <tr>\n",
       "      <th>TZ</th>\n",
       "      <td>73</td>\n",
       "      <td>9</td>\n",
       "    </tr>\n",
       "  </tbody>\n",
       "</table>\n",
       "</div>"
      ],
      "text/plain": [
       "ClinSig  False  True \n",
       "zone                 \n",
       "AS          24     31\n",
       "PZ         155     36\n",
       "SV           2      0\n",
       "TZ          73      9"
      ]
     },
     "execution_count": 9,
     "metadata": {},
     "output_type": "execute_result"
    }
   ],
   "source": [
    "pclass_xt = pd.crosstab(df_findings['zone'], df_findings['ClinSig'])\n",
    "pclass_xt"
   ]
  },
  {
   "cell_type": "code",
   "execution_count": 10,
   "metadata": {},
   "outputs": [
    {
     "data": {
      "text/plain": [
       "ep2d_diff_tra_DYNDIST                   795\n",
       "t2_tse_tra                              412\n",
       "t2_tse_sag                              358\n",
       "t2_tse_cor                              339\n",
       "tfl_3d PD ref_tra_1.5x1.5_t3            326\n",
       "tfl_3d dynamisch fast                   315\n",
       "ep2d_diff_tra_DYNDIST_ADC               265\n",
       "ep2d_diff_tra_DYNDISTCALC_BVAL          265\n",
       "ep2d_diff_tra_DYNDIST_MIX               192\n",
       "t2_loc sag                              151\n",
       "t2_localizer                            144\n",
       "ep2d_diff_tra_DYNDIST_MIX_ADC            64\n",
       "ep2d_diff_tra_DYNDIST_MIXCALC_BVAL       64\n",
       "diffusie-3Scan-4bval_fs                  27\n",
       "diffusie-3Scan-4bval_fsCALC_BVAL          9\n",
       "diffusie-3Scan-4bval_fs_ADC               9\n",
       "tfl_3d PD reference                       9\n",
       "ep2d_diff_tra2x2_Noise0_FS_DYNDIST        6\n",
       "t2_localizer_prostate                     4\n",
       "ep2d_diff_tra2x2_Noise0_NoFS_DYNDIST      3\n",
       "Name: DCMSerDescr, dtype: int64"
      ]
     },
     "execution_count": 10,
     "metadata": {},
     "output_type": "execute_result"
    },
    {
     "data": {
      "image/png": "[encoded data removed]",
      "text/plain": [
       "<Figure size 720x360 with 1 Axes>"
      ]
     },
     "metadata": {
      "needs_background": "light"
     },
     "output_type": "display_data"
    }
   ],
   "source": [
    "pclass_xt_pct = pclass_xt.div(pclass_xt.sum(1).astype(float), axis=0)\n",
    "\n",
    "pclass_xt_pct.plot(kind='bar', \n",
    "                   stacked=True, \n",
    "                   title='Ratio of findings in sigle class')\n",
    "plt.xlabel('Zone')\n",
    "plt.ylabel('Clinically significant Rate')\n",
    "\n",
    "df_images['DCMSerDescr'].value_counts().head(20)"
   ]
  },
  {
   "cell_type": "markdown",
   "metadata": {},
   "source": [
    "## MRI modalities in dataset"
   ]
  },
  {
   "cell_type": "code",
   "execution_count": 14,
   "metadata": {},
   "outputs": [
    {
     "data": {
      "text/plain": [
       "t2_tse_tra0                            412\n",
       "t2_tse_sag0                            358\n",
       "t2_tse_cor0                            339\n",
       "tfl_3d_PD_ref_tra_1_5x1_5_t30          326\n",
       "tfl_3d_dynamisch_fast0                 315\n",
       "ep2d_diff_tra_DYNDIST0                 265\n",
       "ep2d_diff_tra_DYNDIST1                 265\n",
       "ep2d_diff_tra_DYNDIST_ADC0             265\n",
       "ep2d_diff_tra_DYNDIST2                 265\n",
       "ep2d_diff_tra_DYNDISTCALC_BVAL0        265\n",
       "t2_loc_sag0                            151\n",
       "t2_localizer0                          144\n",
       "ep2d_diff_tra_DYNDIST_MIX2              64\n",
       "ep2d_diff_tra_DYNDIST_MIX_ADC0          64\n",
       "ep2d_diff_tra_DYNDIST_MIXCALC_BVAL0     64\n",
       "ep2d_diff_tra_DYNDIST_MIX0              64\n",
       "ep2d_diff_tra_DYNDIST_MIX1              64\n",
       "diffusie_3Scan_4bval_fs1                 9\n",
       "diffusie_3Scan_4bval_fs2                 9\n",
       "diffusie_3Scan_4bval_fsCALC_BVAL0        9\n",
       "Name: Name, dtype: int64"
      ]
     },
     "execution_count": 14,
     "metadata": {},
     "output_type": "execute_result"
    }
   ],
   "source": [
    "df_images['Name'].value_counts().head(20)"
   ]
  },
  {
   "cell_type": "code",
   "execution_count": 34,
   "metadata": {},
   "outputs": [
    {
     "data": {
      "text/plain": [
       "6     871\n",
       "7     441\n",
       "8     349\n",
       "5     337\n",
       "9     336\n",
       "4     326\n",
       "3     316\n",
       "2     155\n",
       "1     143\n",
       "10    119\n",
       "11     32\n",
       "12     21\n",
       "13     14\n",
       "14     12\n",
       "29     10\n",
       "19     10\n",
       "15     10\n",
       "17     10\n",
       "21     10\n",
       "31     10\n",
       "Name: DCMSerNum, dtype: int64"
      ]
     },
     "execution_count": 34,
     "metadata": {},
     "output_type": "execute_result"
    }
   ],
   "source": [
    "\n",
    "df_images['DCMSerNum'].value_counts().head(20)"
   ]
  },
  {
   "cell_type": "code",
   "execution_count": null,
   "metadata": {},
   "outputs": [],
   "source": []
  }
 ],
 "metadata": {
  "kernelspec": {
   "display_name": "TensorFlow-GPU",
   "language": "python",
   "name": "tf-gpu"
  },
  "language_info": {
   "codemirror_mode": {
    "name": "ipython",
    "version": 3
   },
   "file_extension": ".py",
   "mimetype": "text/x-python",
   "name": "python",
   "nbconvert_exporter": "python",
   "pygments_lexer": "ipython3",
   "version": "3.6.8"
  }
 },
 "nbformat": 4,
 "nbformat_minor": 2
}
